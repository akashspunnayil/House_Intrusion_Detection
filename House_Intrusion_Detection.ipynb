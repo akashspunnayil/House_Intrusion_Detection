{
 "cells": [
  {
   "cell_type": "markdown",
   "id": "67239066-6c82-469c-a8aa-7ce32b0c4645",
   "metadata": {},
   "source": [
    "# Human, Animal, and Vehicle Intrusion Detection System"
   ]
  },
  {
   "cell_type": "code",
   "execution_count": 4,
   "id": "43784cea-af0c-4ebb-a29f-86e8818bda85",
   "metadata": {},
   "outputs": [],
   "source": [
    "# !pip install ultralytics\n",
    "# !pip install ultralytics==8.0.100\n",
    "# !pip install playsound==1.2.2  # Older version works best\n"
   ]
  },
  {
   "cell_type": "code",
   "execution_count": 1,
   "id": "5e690355-07bc-41f6-923b-5b1450d36706",
   "metadata": {},
   "outputs": [],
   "source": [
    "# !ls \n",
    "# !rm -r  yolo*"
   ]
  },
  {
   "cell_type": "code",
   "execution_count": 2,
   "id": "45af56e4-8d51-40f6-bb83-7e9b500562d6",
   "metadata": {},
   "outputs": [
    {
     "name": "stderr",
     "output_type": "stream",
     "text": [
      "/home/akashs/.local/lib/python3.8/site-packages/ultralytics/nn/tasks.py:377: FutureWarning: You are using `torch.load` with `weights_only=False` (the current default value), which uses the default pickle module implicitly. It is possible to construct malicious pickle data which will execute arbitrary code during unpickling (See https://github.com/pytorch/pytorch/blob/main/SECURITY.md#untrusted-models for more details). In a future release, the default value for `weights_only` will be flipped to `True`. This limits the functions that could be executed during unpickling. Arbitrary objects will no longer be allowed to be loaded via this mode unless they are explicitly allowlisted by the user via `torch.serialization.add_safe_globals`. We recommend you start setting `weights_only=True` for any use case where you don't have full control of the loaded file. Please open an issue on GitHub for any issues related to this experimental feature.\n",
      "  return torch.load(file, map_location='cpu'), file  # load\n"
     ]
    }
   ],
   "source": [
    "from ultralytics import YOLO\n",
    "from ultralytics import YOLO\n",
    "import cv2\n",
    "import matplotlib.pyplot as plt\n",
    "import time\n",
    "\n",
    "model = YOLO('yolov8n.pt')  # Will redownload a fresh copy\n",
    "# model = YOLO('yolov8n/data.pkl')"
   ]
  },
  {
   "cell_type": "code",
   "execution_count": 3,
   "id": "bc688300-6503-49de-a482-035bcfdc9adc",
   "metadata": {
    "scrolled": true
   },
   "outputs": [
    {
     "data": {
      "text/plain": [
       "{0: 'person',\n",
       " 1: 'bicycle',\n",
       " 2: 'car',\n",
       " 3: 'motorcycle',\n",
       " 4: 'airplane',\n",
       " 5: 'bus',\n",
       " 6: 'train',\n",
       " 7: 'truck',\n",
       " 8: 'boat',\n",
       " 9: 'traffic light',\n",
       " 10: 'fire hydrant',\n",
       " 11: 'stop sign',\n",
       " 12: 'parking meter',\n",
       " 13: 'bench',\n",
       " 14: 'bird',\n",
       " 15: 'cat',\n",
       " 16: 'dog',\n",
       " 17: 'horse',\n",
       " 18: 'sheep',\n",
       " 19: 'cow',\n",
       " 20: 'elephant',\n",
       " 21: 'bear',\n",
       " 22: 'zebra',\n",
       " 23: 'giraffe',\n",
       " 24: 'backpack',\n",
       " 25: 'umbrella',\n",
       " 26: 'handbag',\n",
       " 27: 'tie',\n",
       " 28: 'suitcase',\n",
       " 29: 'frisbee',\n",
       " 30: 'skis',\n",
       " 31: 'snowboard',\n",
       " 32: 'sports ball',\n",
       " 33: 'kite',\n",
       " 34: 'baseball bat',\n",
       " 35: 'baseball glove',\n",
       " 36: 'skateboard',\n",
       " 37: 'surfboard',\n",
       " 38: 'tennis racket',\n",
       " 39: 'bottle',\n",
       " 40: 'wine glass',\n",
       " 41: 'cup',\n",
       " 42: 'fork',\n",
       " 43: 'knife',\n",
       " 44: 'spoon',\n",
       " 45: 'bowl',\n",
       " 46: 'banana',\n",
       " 47: 'apple',\n",
       " 48: 'sandwich',\n",
       " 49: 'orange',\n",
       " 50: 'broccoli',\n",
       " 51: 'carrot',\n",
       " 52: 'hot dog',\n",
       " 53: 'pizza',\n",
       " 54: 'donut',\n",
       " 55: 'cake',\n",
       " 56: 'chair',\n",
       " 57: 'couch',\n",
       " 58: 'potted plant',\n",
       " 59: 'bed',\n",
       " 60: 'dining table',\n",
       " 61: 'toilet',\n",
       " 62: 'tv',\n",
       " 63: 'laptop',\n",
       " 64: 'mouse',\n",
       " 65: 'remote',\n",
       " 66: 'keyboard',\n",
       " 67: 'cell phone',\n",
       " 68: 'microwave',\n",
       " 69: 'oven',\n",
       " 70: 'toaster',\n",
       " 71: 'sink',\n",
       " 72: 'refrigerator',\n",
       " 73: 'book',\n",
       " 74: 'clock',\n",
       " 75: 'vase',\n",
       " 76: 'scissors',\n",
       " 77: 'teddy bear',\n",
       " 78: 'hair drier',\n",
       " 79: 'toothbrush'}"
      ]
     },
     "execution_count": 3,
     "metadata": {},
     "output_type": "execute_result"
    }
   ],
   "source": [
    "model.names"
   ]
  },
  {
   "cell_type": "code",
   "execution_count": 4,
   "id": "22036f0c-8c04-4b53-9b5c-c3b030fde2e8",
   "metadata": {},
   "outputs": [
    {
     "name": "stdout",
     "output_type": "stream",
     "text": [
      "✅ Webcam accessed successfully\n"
     ]
    }
   ],
   "source": [
    "import cv2\n",
    "\n",
    "# Access default webcam (0)\n",
    "cap = cv2.VideoCapture(0)\n",
    "\n",
    "if not cap.isOpened():\n",
    "    print(\"❌ Cannot open webcam\")\n",
    "else:\n",
    "    print(\"✅ Webcam accessed successfully\")\n",
    "\n",
    "while True:\n",
    "    ret, frame = cap.read()\n",
    "    if not ret:\n",
    "        print(\"❌ Failed to grab frame\")\n",
    "        break\n",
    "\n",
    "    cv2.imshow('Webcam Feed (Press q to quit)', frame)\n",
    "\n",
    "    # Exit when 'q' is pressed\n",
    "    if cv2.waitKey(1) & 0xFF == ord('q'):\n",
    "        break\n",
    "\n",
    "# Release webcam and close window\n",
    "cap.release()\n",
    "cv2.destroyAllWindows()\n"
   ]
  },
  {
   "cell_type": "code",
   "execution_count": null,
   "id": "821eb5b8-8241-44c6-bb2d-f8b748590504",
   "metadata": {
    "scrolled": true
   },
   "outputs": [],
   "source": []
  },
  {
   "cell_type": "code",
   "execution_count": 1,
   "id": "57f54803-5c01-4441-8aeb-04aefa191b96",
   "metadata": {
    "scrolled": true
   },
   "outputs": [
    {
     "name": "stderr",
     "output_type": "stream",
     "text": [
      "/home/akashs/.local/lib/python3.8/site-packages/ultralytics/nn/tasks.py:377: FutureWarning: You are using `torch.load` with `weights_only=False` (the current default value), which uses the default pickle module implicitly. It is possible to construct malicious pickle data which will execute arbitrary code during unpickling (See https://github.com/pytorch/pytorch/blob/main/SECURITY.md#untrusted-models for more details). In a future release, the default value for `weights_only` will be flipped to `True`. This limits the functions that could be executed during unpickling. Arbitrary objects will no longer be allowed to be loaded via this mode unless they are explicitly allowlisted by the user via `torch.serialization.add_safe_globals`. We recommend you start setting `weights_only=True` for any use case where you don't have full control of the loaded file. Please open an issue on GitHub for any issues related to this experimental feature.\n",
      "  return torch.load(file, map_location='cpu'), file  # load\n"
     ]
    },
    {
     "name": "stdout",
     "output_type": "stream",
     "text": [
      "Webcam started. Press 's' to save image, 'q' to quit.\n"
     ]
    },
    {
     "name": "stderr",
     "output_type": "stream",
     "text": [
      "Invalid MIT-MAGIC-COOKIE-1 key/home/akashs/.local/lib/python3.8/site-packages/torch/cuda/__init__.py:128: UserWarning: CUDA initialization: The NVIDIA driver on your system is too old (found version 11040). Please update your GPU driver by downloading and installing a new version from the URL: http://www.nvidia.com/Download/index.aspx Alternatively, go to: https://pytorch.org to install a PyTorch version that has been compiled with your version of the CUDA driver. (Triggered internally at ../c10/cuda/CUDAFunctions.cpp:108.)\n",
      "  return torch._C._cuda_getDeviceCount() > 0\n",
      "\n",
      "0: 480x640 1 cat, 233.3ms\n",
      "Speed: 11.3ms preprocess, 233.3ms inference, 2.1ms postprocess per image at shape (1, 3, 640, 640)\n"
     ]
    },
    {
     "name": "stdout",
     "output_type": "stream",
     "text": [
      "🟢 Detected: cat: 0.39 at (182, 123, 383, 379)\n"
     ]
    },
    {
     "name": "stderr",
     "output_type": "stream",
     "text": [
      "\n",
      "0: 480x640 1 cat, 320.8ms\n",
      "Speed: 4.2ms preprocess, 320.8ms inference, 2.7ms postprocess per image at shape (1, 3, 640, 640)\n",
      "\n",
      "0: 480x640 1 person, 1 cat, 143.4ms\n",
      "Speed: 3.1ms preprocess, 143.4ms inference, 1.2ms postprocess per image at shape (1, 3, 640, 640)\n"
     ]
    },
    {
     "name": "stdout",
     "output_type": "stream",
     "text": [
      "🟢 Detected: cat: 0.46 at (179, 123, 383, 391)\n",
      "🟢 Detected: cat: 0.42 at (180, 124, 382, 385)\n",
      "🟢 Detected: person: 0.28 at (180, 124, 381, 389)\n",
      "🚨 Alert: Person detected!\n"
     ]
    },
    {
     "name": "stderr",
     "output_type": "stream",
     "text": [
      "\n"
     ]
    },
    {
     "name": "stdout",
     "output_type": "stream",
     "text": [
      "📸 Alert snapshot saved: alert_person_20250618_015057.jpg\n"
     ]
    },
    {
     "name": "stderr",
     "output_type": "stream",
     "text": [
      "0: 480x640 1 cat, 191.6ms\n",
      "Speed: 3.6ms preprocess, 191.6ms inference, 1.8ms postprocess per image at shape (1, 3, 640, 640)\n",
      "\n"
     ]
    },
    {
     "name": "stdout",
     "output_type": "stream",
     "text": [
      "🟢 Detected: cat: 0.36 at (179, 123, 383, 387)\n"
     ]
    },
    {
     "name": "stderr",
     "output_type": "stream",
     "text": [
      "0: 480x640 1 cat, 189.7ms\n",
      "Speed: 4.4ms preprocess, 189.7ms inference, 2.0ms postprocess per image at shape (1, 3, 640, 640)\n",
      "\n",
      "0: 480x640 1 person, 137.6ms\n",
      "Speed: 8.7ms preprocess, 137.6ms inference, 1.6ms postprocess per image at shape (1, 3, 640, 640)\n"
     ]
    },
    {
     "name": "stdout",
     "output_type": "stream",
     "text": [
      "🟢 Detected: cat: 0.32 at (182, 123, 383, 387)\n",
      "🟢 Detected: person: 0.26 at (0, 123, 493, 479)\n",
      "🚨 Alert: Person detected!\n"
     ]
    },
    {
     "name": "stderr",
     "output_type": "stream",
     "text": [
      "\n"
     ]
    },
    {
     "name": "stdout",
     "output_type": "stream",
     "text": [
      "📸 Alert snapshot saved: alert_person_20250618_015100.jpg\n"
     ]
    },
    {
     "name": "stderr",
     "output_type": "stream",
     "text": [
      "0: 480x640 1 person, 238.0ms\n",
      "Speed: 4.9ms preprocess, 238.0ms inference, 1.7ms postprocess per image at shape (1, 3, 640, 640)\n",
      "\n"
     ]
    },
    {
     "name": "stdout",
     "output_type": "stream",
     "text": [
      "🟢 Detected: person: 0.68 at (2, 128, 501, 479)\n"
     ]
    },
    {
     "name": "stderr",
     "output_type": "stream",
     "text": [
      "0: 480x640 (no detections), 196.3ms\n",
      "Speed: 3.9ms preprocess, 196.3ms inference, 0.9ms postprocess per image at shape (1, 3, 640, 640)\n",
      "\n",
      "0: 480x640 (no detections), 133.1ms\n",
      "Speed: 3.7ms preprocess, 133.1ms inference, 0.6ms postprocess per image at shape (1, 3, 640, 640)\n",
      "\n",
      "0: 480x640 1 person, 130.0ms\n",
      "Speed: 4.3ms preprocess, 130.0ms inference, 1.2ms postprocess per image at shape (1, 3, 640, 640)\n"
     ]
    },
    {
     "name": "stdout",
     "output_type": "stream",
     "text": [
      "🟢 Detected: person: 0.41 at (157, 125, 494, 478)\n",
      "🚨 Alert: Person detected!\n"
     ]
    },
    {
     "name": "stderr",
     "output_type": "stream",
     "text": [
      "\n"
     ]
    },
    {
     "name": "stdout",
     "output_type": "stream",
     "text": [
      "📸 Alert snapshot saved: alert_person_20250618_015103.jpg\n"
     ]
    },
    {
     "name": "stderr",
     "output_type": "stream",
     "text": [
      "0: 480x640 (no detections), 274.3ms\n",
      "Speed: 3.4ms preprocess, 274.3ms inference, 1.1ms postprocess per image at shape (1, 3, 640, 640)\n",
      "\n",
      "0: 480x640 1 cat, 147.0ms\n",
      "Speed: 3.7ms preprocess, 147.0ms inference, 1.2ms postprocess per image at shape (1, 3, 640, 640)\n",
      "\n"
     ]
    },
    {
     "name": "stdout",
     "output_type": "stream",
     "text": [
      "🟢 Detected: cat: 0.40 at (66, 125, 296, 471)\n"
     ]
    },
    {
     "name": "stderr",
     "output_type": "stream",
     "text": [
      "0: 480x640 2 toilets, 185.8ms\n",
      "Speed: 3.5ms preprocess, 185.8ms inference, 1.6ms postprocess per image at shape (1, 3, 640, 640)\n",
      "\n",
      "0: 480x640 1 toilet, 163.1ms\n",
      "Speed: 4.8ms preprocess, 163.1ms inference, 1.1ms postprocess per image at shape (1, 3, 640, 640)\n",
      "\n",
      "0: 480x640 (no detections), 135.8ms\n",
      "Speed: 3.1ms preprocess, 135.8ms inference, 0.7ms postprocess per image at shape (1, 3, 640, 640)\n",
      "\n",
      "0: 480x640 1 cat, 133.9ms\n",
      "Speed: 3.0ms preprocess, 133.9ms inference, 1.2ms postprocess per image at shape (1, 3, 640, 640)\n",
      "\n",
      "0: 480x640 (no detections), 171.7ms\n",
      "Speed: 10.3ms preprocess, 171.7ms inference, 0.7ms postprocess per image at shape (1, 3, 640, 640)\n"
     ]
    },
    {
     "name": "stdout",
     "output_type": "stream",
     "text": [
      "🟢 Detected: cat: 0.38 at (178, 132, 503, 479)\n"
     ]
    },
    {
     "name": "stderr",
     "output_type": "stream",
     "text": [
      "\n",
      "0: 480x640 1 cat, 204.7ms\n",
      "Speed: 3.6ms preprocess, 204.7ms inference, 1.5ms postprocess per image at shape (1, 3, 640, 640)\n",
      "\n",
      "0: 480x640 (no detections), 152.0ms\n",
      "Speed: 5.0ms preprocess, 152.0ms inference, 0.7ms postprocess per image at shape (1, 3, 640, 640)\n",
      "\n"
     ]
    },
    {
     "name": "stdout",
     "output_type": "stream",
     "text": [
      "🟢 Detected: cat: 0.41 at (181, 131, 502, 479)\n"
     ]
    },
    {
     "name": "stderr",
     "output_type": "stream",
     "text": [
      "0: 480x640 (no detections), 150.9ms\n",
      "Speed: 3.1ms preprocess, 150.9ms inference, 0.6ms postprocess per image at shape (1, 3, 640, 640)\n",
      "\n",
      "0: 480x640 (no detections), 129.1ms\n",
      "Speed: 3.2ms preprocess, 129.1ms inference, 0.6ms postprocess per image at shape (1, 3, 640, 640)\n",
      "\n",
      "0: 480x640 (no detections), 195.5ms\n",
      "Speed: 4.6ms preprocess, 195.5ms inference, 0.8ms postprocess per image at shape (1, 3, 640, 640)\n",
      "\n",
      "0: 480x640 (no detections), 132.9ms\n",
      "Speed: 3.1ms preprocess, 132.9ms inference, 0.7ms postprocess per image at shape (1, 3, 640, 640)\n",
      "\n",
      "0: 480x640 1 cat, 130.4ms\n",
      "Speed: 3.7ms preprocess, 130.4ms inference, 1.4ms postprocess per image at shape (1, 3, 640, 640)\n",
      "\n",
      "0: 480x640 (no detections), 130.6ms\n",
      "Speed: 7.2ms preprocess, 130.6ms inference, 0.6ms postprocess per image at shape (1, 3, 640, 640)\n",
      "\n"
     ]
    },
    {
     "name": "stdout",
     "output_type": "stream",
     "text": [
      "🟢 Detected: cat: 0.59 at (6, 133, 401, 480)\n"
     ]
    },
    {
     "name": "stderr",
     "output_type": "stream",
     "text": [
      "0: 480x640 (no detections), 183.2ms\n",
      "Speed: 8.0ms preprocess, 183.2ms inference, 0.8ms postprocess per image at shape (1, 3, 640, 640)\n",
      "\n",
      "0: 480x640 (no detections), 147.5ms\n",
      "Speed: 3.5ms preprocess, 147.5ms inference, 0.6ms postprocess per image at shape (1, 3, 640, 640)\n",
      "\n",
      "0: 480x640 1 cat, 178.6ms\n",
      "Speed: 3.6ms preprocess, 178.6ms inference, 1.2ms postprocess per image at shape (1, 3, 640, 640)\n",
      "\n",
      "0: 480x640 1 person, 147.2ms\n",
      "Speed: 3.3ms preprocess, 147.2ms inference, 1.2ms postprocess per image at shape (1, 3, 640, 640)\n"
     ]
    },
    {
     "name": "stdout",
     "output_type": "stream",
     "text": [
      "🟢 Detected: cat: 0.31 at (183, 127, 513, 479)\n",
      "🟢 Detected: person: 0.31 at (7, 125, 434, 478)\n",
      "🚨 Alert: Person detected!\n"
     ]
    },
    {
     "name": "stderr",
     "output_type": "stream",
     "text": [
      "\n"
     ]
    },
    {
     "name": "stdout",
     "output_type": "stream",
     "text": [
      "📸 Alert snapshot saved: alert_person_20250618_015108.jpg\n"
     ]
    },
    {
     "name": "stderr",
     "output_type": "stream",
     "text": [
      "0: 480x640 1 cat, 191.0ms\n",
      "Speed: 4.6ms preprocess, 191.0ms inference, 1.8ms postprocess per image at shape (1, 3, 640, 640)\n",
      "\n"
     ]
    },
    {
     "name": "stdout",
     "output_type": "stream",
     "text": [
      "🟢 Detected: cat: 0.29 at (179, 127, 514, 479)\n"
     ]
    },
    {
     "name": "stderr",
     "output_type": "stream",
     "text": [
      "0: 480x640 1 person, 211.6ms\n",
      "Speed: 5.2ms preprocess, 211.6ms inference, 1.6ms postprocess per image at shape (1, 3, 640, 640)\n"
     ]
    },
    {
     "name": "stdout",
     "output_type": "stream",
     "text": [
      "🟢 Detected: person: 0.32 at (0, 127, 503, 479)\n",
      "🚨 Alert: Person detected!\n"
     ]
    },
    {
     "name": "stderr",
     "output_type": "stream",
     "text": [
      "\n"
     ]
    },
    {
     "name": "stdout",
     "output_type": "stream",
     "text": [
      "📸 Alert snapshot saved: alert_person_20250618_015111.jpg\n"
     ]
    },
    {
     "name": "stderr",
     "output_type": "stream",
     "text": [
      "0: 480x640 (no detections), 257.0ms\n",
      "Speed: 3.3ms preprocess, 257.0ms inference, 1.1ms postprocess per image at shape (1, 3, 640, 640)\n",
      "\n",
      "0: 480x640 (no detections), 171.5ms\n",
      "Speed: 3.6ms preprocess, 171.5ms inference, 0.8ms postprocess per image at shape (1, 3, 640, 640)\n",
      "\n",
      "0: 480x640 (no detections), 157.8ms\n",
      "Speed: 4.4ms preprocess, 157.8ms inference, 0.6ms postprocess per image at shape (1, 3, 640, 640)\n",
      "\n",
      "0: 480x640 (no detections), 132.7ms\n",
      "Speed: 5.0ms preprocess, 132.7ms inference, 0.7ms postprocess per image at shape (1, 3, 640, 640)\n",
      "\n",
      "0: 480x640 (no detections), 136.3ms\n",
      "Speed: 2.4ms preprocess, 136.3ms inference, 0.7ms postprocess per image at shape (1, 3, 640, 640)\n",
      "\n",
      "0: 480x640 1 person, 143.7ms\n",
      "Speed: 6.1ms preprocess, 143.7ms inference, 1.2ms postprocess per image at shape (1, 3, 640, 640)\n"
     ]
    },
    {
     "name": "stdout",
     "output_type": "stream",
     "text": [
      "🟢 Detected: person: 0.42 at (13, 134, 519, 479)\n",
      "🚨 Alert: Person detected!\n"
     ]
    },
    {
     "name": "stderr",
     "output_type": "stream",
     "text": [
      "\n"
     ]
    },
    {
     "name": "stdout",
     "output_type": "stream",
     "text": [
      "📸 Alert snapshot saved: alert_person_20250618_015114.jpg\n"
     ]
    },
    {
     "name": "stderr",
     "output_type": "stream",
     "text": [
      "0: 480x640 1 person, 197.5ms\n",
      "Speed: 3.2ms preprocess, 197.5ms inference, 1.6ms postprocess per image at shape (1, 3, 640, 640)\n",
      "\n"
     ]
    },
    {
     "name": "stdout",
     "output_type": "stream",
     "text": [
      "🟢 Detected: person: 0.36 at (16, 134, 491, 478)\n"
     ]
    },
    {
     "name": "stderr",
     "output_type": "stream",
     "text": [
      "0: 480x640 2 persons, 178.2ms\n",
      "Speed: 6.2ms preprocess, 178.2ms inference, 2.3ms postprocess per image at shape (1, 3, 640, 640)\n",
      "\n"
     ]
    },
    {
     "name": "stdout",
     "output_type": "stream",
     "text": [
      "🟢 Detected: person: 0.69 at (12, 136, 522, 479)\n",
      "🟢 Detected: person: 0.33 at (217, 139, 527, 479)\n"
     ]
    },
    {
     "name": "stderr",
     "output_type": "stream",
     "text": [
      "0: 480x640 1 person, 190.9ms\n",
      "Speed: 4.3ms preprocess, 190.9ms inference, 1.8ms postprocess per image at shape (1, 3, 640, 640)\n",
      "\n"
     ]
    },
    {
     "name": "stdout",
     "output_type": "stream",
     "text": [
      "🟢 Detected: person: 0.41 at (8, 134, 493, 478)\n"
     ]
    },
    {
     "name": "stderr",
     "output_type": "stream",
     "text": [
      "0: 480x640 (no detections), 211.6ms\n",
      "Speed: 3.3ms preprocess, 211.6ms inference, 0.9ms postprocess per image at shape (1, 3, 640, 640)\n",
      "\n",
      "0: 480x640 (no detections), 150.6ms\n",
      "Speed: 6.0ms preprocess, 150.6ms inference, 0.7ms postprocess per image at shape (1, 3, 640, 640)\n",
      "\n",
      "0: 480x640 1 person, 178.1ms\n",
      "Speed: 3.8ms preprocess, 178.1ms inference, 1.5ms postprocess per image at shape (1, 3, 640, 640)\n"
     ]
    },
    {
     "name": "stdout",
     "output_type": "stream",
     "text": [
      "🟢 Detected: person: 0.42 at (9, 136, 516, 479)\n",
      "🚨 Alert: Person detected!\n"
     ]
    },
    {
     "name": "stderr",
     "output_type": "stream",
     "text": [
      "\n"
     ]
    },
    {
     "name": "stdout",
     "output_type": "stream",
     "text": [
      "📸 Alert snapshot saved: alert_person_20250618_015117.jpg\n"
     ]
    },
    {
     "name": "stderr",
     "output_type": "stream",
     "text": [
      "0: 480x640 2 persons, 214.0ms\n",
      "Speed: 3.3ms preprocess, 214.0ms inference, 1.2ms postprocess per image at shape (1, 3, 640, 640)\n",
      "\n"
     ]
    },
    {
     "name": "stdout",
     "output_type": "stream",
     "text": [
      "🟢 Detected: person: 0.68 at (12, 137, 520, 479)\n",
      "🟢 Detected: person: 0.29 at (207, 138, 517, 479)\n"
     ]
    },
    {
     "name": "stderr",
     "output_type": "stream",
     "text": [
      "0: 480x640 (no detections), 193.0ms\n",
      "Speed: 6.1ms preprocess, 193.0ms inference, 0.8ms postprocess per image at shape (1, 3, 640, 640)\n",
      "\n",
      "0: 480x640 1 toilet, 126.5ms\n",
      "Speed: 4.9ms preprocess, 126.5ms inference, 1.2ms postprocess per image at shape (1, 3, 640, 640)\n",
      "\n",
      "0: 480x640 (no detections), 124.9ms\n",
      "Speed: 3.7ms preprocess, 124.9ms inference, 0.7ms postprocess per image at shape (1, 3, 640, 640)\n",
      "\n",
      "0: 480x640 1 person, 116.1ms\n",
      "Speed: 4.8ms preprocess, 116.1ms inference, 1.1ms postprocess per image at shape (1, 3, 640, 640)\n"
     ]
    },
    {
     "name": "stdout",
     "output_type": "stream",
     "text": [
      "🟢 Detected: person: 0.33 at (8, 136, 480, 479)\n",
      "🚨 Alert: Person detected!\n"
     ]
    },
    {
     "name": "stderr",
     "output_type": "stream",
     "text": [
      "\n",
      "0: 480x640 (no detections), 148.1ms\n",
      "Speed: 3.9ms preprocess, 148.1ms inference, 0.6ms postprocess per image at shape (1, 3, 640, 640)\n",
      "\n"
     ]
    },
    {
     "name": "stdout",
     "output_type": "stream",
     "text": [
      "📸 Alert snapshot saved: alert_person_20250618_015120.jpg\n"
     ]
    },
    {
     "name": "stderr",
     "output_type": "stream",
     "text": [
      "0: 480x640 (no detections), 137.0ms\n",
      "Speed: 3.5ms preprocess, 137.0ms inference, 0.9ms postprocess per image at shape (1, 3, 640, 640)\n",
      "\n",
      "0: 480x640 1 toilet, 142.8ms\n",
      "Speed: 5.0ms preprocess, 142.8ms inference, 1.2ms postprocess per image at shape (1, 3, 640, 640)\n",
      "\n",
      "0: 480x640 1 person, 222.2ms\n",
      "Speed: 3.3ms preprocess, 222.2ms inference, 2.4ms postprocess per image at shape (1, 3, 640, 640)\n"
     ]
    },
    {
     "name": "stdout",
     "output_type": "stream",
     "text": [
      "🟢 Detected: person: 0.30 at (10, 136, 447, 478)\n",
      "🚨 Alert: Person detected!\n"
     ]
    },
    {
     "name": "stderr",
     "output_type": "stream",
     "text": [
      "\n",
      "0: 480x640 (no detections), 133.9ms\n",
      "Speed: 3.3ms preprocess, 133.9ms inference, 1.0ms postprocess per image at shape (1, 3, 640, 640)\n",
      "\n"
     ]
    },
    {
     "name": "stdout",
     "output_type": "stream",
     "text": [
      "📸 Alert snapshot saved: alert_person_20250618_015123.jpg\n"
     ]
    },
    {
     "name": "stderr",
     "output_type": "stream",
     "text": [
      "0: 480x640 1 cat, 151.5ms\n",
      "Speed: 6.2ms preprocess, 151.5ms inference, 3.3ms postprocess per image at shape (1, 3, 640, 640)\n",
      "\n"
     ]
    },
    {
     "name": "stdout",
     "output_type": "stream",
     "text": [
      "🟢 Detected: cat: 0.33 at (175, 136, 502, 479)\n"
     ]
    },
    {
     "name": "stderr",
     "output_type": "stream",
     "text": [
      "0: 480x640 2 persons, 237.6ms\n",
      "Speed: 6.2ms preprocess, 237.6ms inference, 2.2ms postprocess per image at shape (1, 3, 640, 640)\n"
     ]
    },
    {
     "name": "stdout",
     "output_type": "stream",
     "text": [
      "🟢 Detected: person: 0.54 at (7, 136, 467, 479)\n",
      "🟢 Detected: person: 0.26 at (139, 139, 504, 479)\n",
      "🚨 Alert: Person detected!\n"
     ]
    },
    {
     "name": "stderr",
     "output_type": "stream",
     "text": [
      "\n",
      "0: 480x640 1 person, 170.9ms\n",
      "Speed: 3.9ms preprocess, 170.9ms inference, 1.3ms postprocess per image at shape (1, 3, 640, 640)\n"
     ]
    },
    {
     "name": "stdout",
     "output_type": "stream",
     "text": [
      "📸 Alert snapshot saved: alert_person_20250618_015126.jpg\n",
      "🟢 Detected: person: 0.38 at (6, 136, 472, 479)\n"
     ]
    },
    {
     "name": "stderr",
     "output_type": "stream",
     "text": [
      "\n",
      "0: 480x640 (no detections), 223.7ms\n",
      "Speed: 6.0ms preprocess, 223.7ms inference, 1.0ms postprocess per image at shape (1, 3, 640, 640)\n",
      "\n",
      "0: 480x640 1 cat, 173.3ms\n",
      "Speed: 3.4ms preprocess, 173.3ms inference, 2.8ms postprocess per image at shape (1, 3, 640, 640)\n",
      "\n",
      "0: 480x640 (no detections), 119.7ms\n",
      "Speed: 4.0ms preprocess, 119.7ms inference, 0.6ms postprocess per image at shape (1, 3, 640, 640)\n",
      "\n"
     ]
    },
    {
     "name": "stdout",
     "output_type": "stream",
     "text": [
      "🟢 Detected: cat: 0.34 at (184, 137, 398, 423)\n"
     ]
    },
    {
     "name": "stderr",
     "output_type": "stream",
     "text": [
      "0: 480x640 (no detections), 175.3ms\n",
      "Speed: 3.5ms preprocess, 175.3ms inference, 0.8ms postprocess per image at shape (1, 3, 640, 640)\n",
      "\n",
      "0: 480x640 1 person, 117.2ms\n",
      "Speed: 3.5ms preprocess, 117.2ms inference, 1.1ms postprocess per image at shape (1, 3, 640, 640)\n"
     ]
    },
    {
     "name": "stdout",
     "output_type": "stream",
     "text": [
      "🟢 Detected: person: 0.25 at (4, 136, 492, 479)\n",
      "🚨 Alert: Person detected!\n"
     ]
    },
    {
     "name": "stderr",
     "output_type": "stream",
     "text": [
      "\n",
      "0: 480x640 1 cat, 155.9ms\n",
      "Speed: 2.6ms preprocess, 155.9ms inference, 1.2ms postprocess per image at shape (1, 3, 640, 640)\n",
      "\n"
     ]
    },
    {
     "name": "stdout",
     "output_type": "stream",
     "text": [
      "📸 Alert snapshot saved: alert_person_20250618_015129.jpg\n",
      "🟢 Detected: cat: 0.44 at (165, 139, 502, 479)\n"
     ]
    },
    {
     "name": "stderr",
     "output_type": "stream",
     "text": [
      "0: 480x640 (no detections), 133.3ms\n",
      "Speed: 3.5ms preprocess, 133.3ms inference, 0.7ms postprocess per image at shape (1, 3, 640, 640)\n",
      "\n",
      "0: 480x640 1 cat, 136.9ms\n",
      "Speed: 5.6ms preprocess, 136.9ms inference, 1.1ms postprocess per image at shape (1, 3, 640, 640)\n",
      "\n",
      "0: 480x640 1 person, 120.4ms\n",
      "Speed: 4.7ms preprocess, 120.4ms inference, 1.2ms postprocess per image at shape (1, 3, 640, 640)\n"
     ]
    },
    {
     "name": "stdout",
     "output_type": "stream",
     "text": [
      "🟢 Detected: cat: 0.26 at (183, 137, 503, 479)\n",
      "🟢 Detected: person: 0.29 at (6, 136, 467, 478)\n",
      "🚨 Alert: Person detected!\n"
     ]
    },
    {
     "name": "stderr",
     "output_type": "stream",
     "text": [
      "\n",
      "0: 480x640 (no detections), 131.4ms\n",
      "Speed: 5.8ms preprocess, 131.4ms inference, 1.0ms postprocess per image at shape (1, 3, 640, 640)\n",
      "\n"
     ]
    },
    {
     "name": "stdout",
     "output_type": "stream",
     "text": [
      "📸 Alert snapshot saved: alert_person_20250618_015132.jpg\n"
     ]
    },
    {
     "name": "stderr",
     "output_type": "stream",
     "text": [
      "0: 480x640 (no detections), 192.3ms\n",
      "Speed: 6.6ms preprocess, 192.3ms inference, 0.8ms postprocess per image at shape (1, 3, 640, 640)\n",
      "\n",
      "0: 480x640 (no detections), 128.4ms\n",
      "Speed: 3.3ms preprocess, 128.4ms inference, 0.7ms postprocess per image at shape (1, 3, 640, 640)\n",
      "\n",
      "0: 480x640 (no detections), 118.6ms\n",
      "Speed: 3.8ms preprocess, 118.6ms inference, 0.7ms postprocess per image at shape (1, 3, 640, 640)\n",
      "\n",
      "0: 480x640 (no detections), 120.7ms\n",
      "Speed: 4.1ms preprocess, 120.7ms inference, 0.7ms postprocess per image at shape (1, 3, 640, 640)\n",
      "\n",
      "0: 480x640 (no detections), 152.8ms\n",
      "Speed: 4.8ms preprocess, 152.8ms inference, 0.7ms postprocess per image at shape (1, 3, 640, 640)\n",
      "\n",
      "0: 480x640 (no detections), 125.7ms\n",
      "Speed: 4.0ms preprocess, 125.7ms inference, 0.6ms postprocess per image at shape (1, 3, 640, 640)\n",
      "\n",
      "0: 480x640 (no detections), 178.7ms\n",
      "Speed: 5.1ms preprocess, 178.7ms inference, 0.8ms postprocess per image at shape (1, 3, 640, 640)\n",
      "\n",
      "0: 480x640 (no detections), 127.2ms\n",
      "Speed: 3.4ms preprocess, 127.2ms inference, 0.7ms postprocess per image at shape (1, 3, 640, 640)\n",
      "\n",
      "0: 480x640 (no detections), 116.3ms\n",
      "Speed: 4.1ms preprocess, 116.3ms inference, 0.7ms postprocess per image at shape (1, 3, 640, 640)\n",
      "\n",
      "0: 480x640 (no detections), 118.1ms\n",
      "Speed: 4.3ms preprocess, 118.1ms inference, 0.7ms postprocess per image at shape (1, 3, 640, 640)\n",
      "\n",
      "0: 480x640 (no detections), 118.3ms\n",
      "Speed: 3.7ms preprocess, 118.3ms inference, 0.7ms postprocess per image at shape (1, 3, 640, 640)\n",
      "\n",
      "0: 480x640 (no detections), 118.5ms\n",
      "Speed: 3.5ms preprocess, 118.5ms inference, 0.6ms postprocess per image at shape (1, 3, 640, 640)\n",
      "\n",
      "0: 480x640 (no detections), 118.7ms\n",
      "Speed: 4.7ms preprocess, 118.7ms inference, 1.0ms postprocess per image at shape (1, 3, 640, 640)\n",
      "\n",
      "0: 480x640 (no detections), 179.6ms\n",
      "Speed: 4.8ms preprocess, 179.6ms inference, 0.8ms postprocess per image at shape (1, 3, 640, 640)\n",
      "\n",
      "0: 480x640 (no detections), 137.5ms\n",
      "Speed: 2.7ms preprocess, 137.5ms inference, 0.8ms postprocess per image at shape (1, 3, 640, 640)\n",
      "\n",
      "0: 480x640 (no detections), 177.9ms\n",
      "Speed: 3.5ms preprocess, 177.9ms inference, 1.1ms postprocess per image at shape (1, 3, 640, 640)\n",
      "\n",
      "0: 480x640 (no detections), 116.8ms\n",
      "Speed: 6.0ms preprocess, 116.8ms inference, 0.7ms postprocess per image at shape (1, 3, 640, 640)\n",
      "\n",
      "0: 480x640 (no detections), 122.8ms\n",
      "Speed: 3.4ms preprocess, 122.8ms inference, 0.7ms postprocess per image at shape (1, 3, 640, 640)\n",
      "\n",
      "0: 480x640 (no detections), 121.0ms\n",
      "Speed: 3.5ms preprocess, 121.0ms inference, 0.6ms postprocess per image at shape (1, 3, 640, 640)\n",
      "\n",
      "0: 480x640 (no detections), 144.0ms\n",
      "Speed: 5.1ms preprocess, 144.0ms inference, 0.9ms postprocess per image at shape (1, 3, 640, 640)\n",
      "\n",
      "0: 480x640 (no detections), 187.4ms\n",
      "Speed: 4.9ms preprocess, 187.4ms inference, 0.9ms postprocess per image at shape (1, 3, 640, 640)\n",
      "\n",
      "0: 480x640 (no detections), 171.8ms\n",
      "Speed: 3.2ms preprocess, 171.8ms inference, 0.7ms postprocess per image at shape (1, 3, 640, 640)\n",
      "\n",
      "0: 480x640 (no detections), 176.7ms\n",
      "Speed: 5.4ms preprocess, 176.7ms inference, 1.0ms postprocess per image at shape (1, 3, 640, 640)\n",
      "\n",
      "0: 480x640 (no detections), 173.7ms\n",
      "Speed: 5.2ms preprocess, 173.7ms inference, 0.8ms postprocess per image at shape (1, 3, 640, 640)\n",
      "\n",
      "0: 480x640 (no detections), 184.3ms\n",
      "Speed: 2.7ms preprocess, 184.3ms inference, 0.9ms postprocess per image at shape (1, 3, 640, 640)\n",
      "\n",
      "0: 480x640 (no detections), 181.9ms\n",
      "Speed: 4.9ms preprocess, 181.9ms inference, 0.8ms postprocess per image at shape (1, 3, 640, 640)\n",
      "\n",
      "0: 480x640 (no detections), 118.8ms\n",
      "Speed: 4.5ms preprocess, 118.8ms inference, 0.7ms postprocess per image at shape (1, 3, 640, 640)\n",
      "\n",
      "0: 480x640 (no detections), 128.8ms\n",
      "Speed: 5.8ms preprocess, 128.8ms inference, 0.7ms postprocess per image at shape (1, 3, 640, 640)\n",
      "\n",
      "0: 480x640 (no detections), 140.4ms\n",
      "Speed: 6.3ms preprocess, 140.4ms inference, 0.6ms postprocess per image at shape (1, 3, 640, 640)\n",
      "\n",
      "0: 480x640 (no detections), 172.2ms\n",
      "Speed: 4.2ms preprocess, 172.2ms inference, 0.8ms postprocess per image at shape (1, 3, 640, 640)\n",
      "\n",
      "0: 480x640 (no detections), 117.2ms\n",
      "Speed: 4.8ms preprocess, 117.2ms inference, 0.7ms postprocess per image at shape (1, 3, 640, 640)\n",
      "\n",
      "0: 480x640 (no detections), 156.0ms\n",
      "Speed: 4.2ms preprocess, 156.0ms inference, 0.7ms postprocess per image at shape (1, 3, 640, 640)\n",
      "\n",
      "0: 480x640 (no detections), 118.3ms\n",
      "Speed: 3.2ms preprocess, 118.3ms inference, 0.7ms postprocess per image at shape (1, 3, 640, 640)\n",
      "\n",
      "0: 480x640 (no detections), 119.7ms\n",
      "Speed: 3.4ms preprocess, 119.7ms inference, 0.7ms postprocess per image at shape (1, 3, 640, 640)\n",
      "\n",
      "0: 480x640 (no detections), 116.7ms\n",
      "Speed: 4.6ms preprocess, 116.7ms inference, 0.6ms postprocess per image at shape (1, 3, 640, 640)\n",
      "\n",
      "0: 480x640 (no detections), 156.9ms\n",
      "Speed: 3.8ms preprocess, 156.9ms inference, 0.6ms postprocess per image at shape (1, 3, 640, 640)\n",
      "\n",
      "0: 480x640 (no detections), 173.2ms\n",
      "Speed: 4.8ms preprocess, 173.2ms inference, 0.8ms postprocess per image at shape (1, 3, 640, 640)\n",
      "\n",
      "0: 480x640 (no detections), 115.4ms\n",
      "Speed: 3.2ms preprocess, 115.4ms inference, 1.0ms postprocess per image at shape (1, 3, 640, 640)\n",
      "\n",
      "0: 480x640 (no detections), 161.1ms\n",
      "Speed: 2.7ms preprocess, 161.1ms inference, 0.7ms postprocess per image at shape (1, 3, 640, 640)\n",
      "\n",
      "0: 480x640 (no detections), 114.7ms\n",
      "Speed: 3.3ms preprocess, 114.7ms inference, 0.6ms postprocess per image at shape (1, 3, 640, 640)\n",
      "\n",
      "0: 480x640 (no detections), 157.0ms\n",
      "Speed: 3.9ms preprocess, 157.0ms inference, 0.7ms postprocess per image at shape (1, 3, 640, 640)\n",
      "\n",
      "0: 480x640 (no detections), 118.8ms\n",
      "Speed: 3.4ms preprocess, 118.8ms inference, 0.7ms postprocess per image at shape (1, 3, 640, 640)\n",
      "\n",
      "0: 480x640 (no detections), 120.1ms\n",
      "Speed: 3.2ms preprocess, 120.1ms inference, 0.7ms postprocess per image at shape (1, 3, 640, 640)\n",
      "\n",
      "0: 480x640 (no detections), 112.3ms\n",
      "Speed: 4.7ms preprocess, 112.3ms inference, 0.6ms postprocess per image at shape (1, 3, 640, 640)\n",
      "\n",
      "0: 480x640 (no detections), 114.7ms\n",
      "Speed: 3.5ms preprocess, 114.7ms inference, 0.7ms postprocess per image at shape (1, 3, 640, 640)\n",
      "\n",
      "0: 480x640 (no detections), 121.9ms\n",
      "Speed: 4.0ms preprocess, 121.9ms inference, 0.6ms postprocess per image at shape (1, 3, 640, 640)\n",
      "\n",
      "0: 480x640 (no detections), 116.2ms\n",
      "Speed: 4.8ms preprocess, 116.2ms inference, 0.7ms postprocess per image at shape (1, 3, 640, 640)\n",
      "\n",
      "0: 480x640 (no detections), 118.9ms\n",
      "Speed: 3.3ms preprocess, 118.9ms inference, 0.7ms postprocess per image at shape (1, 3, 640, 640)\n",
      "\n",
      "0: 480x640 (no detections), 121.8ms\n",
      "Speed: 3.3ms preprocess, 121.8ms inference, 0.8ms postprocess per image at shape (1, 3, 640, 640)\n",
      "\n",
      "0: 480x640 (no detections), 116.6ms\n",
      "Speed: 3.5ms preprocess, 116.6ms inference, 0.7ms postprocess per image at shape (1, 3, 640, 640)\n",
      "\n",
      "0: 480x640 (no detections), 117.3ms\n",
      "Speed: 5.0ms preprocess, 117.3ms inference, 0.6ms postprocess per image at shape (1, 3, 640, 640)\n",
      "\n",
      "0: 480x640 (no detections), 115.3ms\n",
      "Speed: 3.6ms preprocess, 115.3ms inference, 0.6ms postprocess per image at shape (1, 3, 640, 640)\n",
      "\n",
      "0: 480x640 (no detections), 136.0ms\n",
      "Speed: 3.3ms preprocess, 136.0ms inference, 0.7ms postprocess per image at shape (1, 3, 640, 640)\n",
      "\n",
      "0: 480x640 (no detections), 121.7ms\n",
      "Speed: 5.1ms preprocess, 121.7ms inference, 0.8ms postprocess per image at shape (1, 3, 640, 640)\n",
      "\n",
      "0: 480x640 (no detections), 118.9ms\n",
      "Speed: 4.1ms preprocess, 118.9ms inference, 0.7ms postprocess per image at shape (1, 3, 640, 640)\n",
      "\n",
      "0: 480x640 (no detections), 166.6ms\n",
      "Speed: 2.7ms preprocess, 166.6ms inference, 0.7ms postprocess per image at shape (1, 3, 640, 640)\n",
      "\n",
      "0: 480x640 (no detections), 120.8ms\n",
      "Speed: 2.7ms preprocess, 120.8ms inference, 0.6ms postprocess per image at shape (1, 3, 640, 640)\n",
      "\n",
      "0: 480x640 (no detections), 149.5ms\n",
      "Speed: 5.5ms preprocess, 149.5ms inference, 0.6ms postprocess per image at shape (1, 3, 640, 640)\n",
      "\n",
      "0: 480x640 (no detections), 115.7ms\n",
      "Speed: 5.3ms preprocess, 115.7ms inference, 0.6ms postprocess per image at shape (1, 3, 640, 640)\n",
      "\n",
      "0: 480x640 (no detections), 118.6ms\n",
      "Speed: 6.2ms preprocess, 118.6ms inference, 0.7ms postprocess per image at shape (1, 3, 640, 640)\n",
      "\n",
      "0: 480x640 (no detections), 141.1ms\n",
      "Speed: 3.5ms preprocess, 141.1ms inference, 0.6ms postprocess per image at shape (1, 3, 640, 640)\n",
      "\n",
      "0: 480x640 (no detections), 132.3ms\n",
      "Speed: 5.9ms preprocess, 132.3ms inference, 0.6ms postprocess per image at shape (1, 3, 640, 640)\n",
      "\n",
      "0: 480x640 (no detections), 118.2ms\n",
      "Speed: 3.4ms preprocess, 118.2ms inference, 0.6ms postprocess per image at shape (1, 3, 640, 640)\n",
      "\n",
      "0: 480x640 (no detections), 124.5ms\n",
      "Speed: 3.4ms preprocess, 124.5ms inference, 0.6ms postprocess per image at shape (1, 3, 640, 640)\n",
      "\n",
      "0: 480x640 (no detections), 117.4ms\n",
      "Speed: 3.8ms preprocess, 117.4ms inference, 0.6ms postprocess per image at shape (1, 3, 640, 640)\n",
      "\n",
      "0: 480x640 (no detections), 116.1ms\n",
      "Speed: 4.2ms preprocess, 116.1ms inference, 0.6ms postprocess per image at shape (1, 3, 640, 640)\n",
      "\n",
      "0: 480x640 1 toilet, 141.2ms\n",
      "Speed: 3.8ms preprocess, 141.2ms inference, 1.3ms postprocess per image at shape (1, 3, 640, 640)\n",
      "\n",
      "0: 480x640 1 toilet, 166.7ms\n",
      "Speed: 5.0ms preprocess, 166.7ms inference, 1.2ms postprocess per image at shape (1, 3, 640, 640)\n",
      "\n",
      "0: 480x640 1 toilet, 129.1ms\n",
      "Speed: 7.0ms preprocess, 129.1ms inference, 1.2ms postprocess per image at shape (1, 3, 640, 640)\n",
      "\n",
      "0: 480x640 1 toilet, 130.1ms\n",
      "Speed: 4.5ms preprocess, 130.1ms inference, 1.4ms postprocess per image at shape (1, 3, 640, 640)\n",
      "\n",
      "0: 480x640 (no detections), 128.1ms\n",
      "Speed: 3.4ms preprocess, 128.1ms inference, 0.6ms postprocess per image at shape (1, 3, 640, 640)\n",
      "\n",
      "0: 480x640 1 toilet, 116.6ms\n",
      "Speed: 3.7ms preprocess, 116.6ms inference, 1.2ms postprocess per image at shape (1, 3, 640, 640)\n",
      "\n",
      "0: 480x640 (no detections), 133.9ms\n",
      "Speed: 4.4ms preprocess, 133.9ms inference, 0.8ms postprocess per image at shape (1, 3, 640, 640)\n",
      "\n",
      "0: 480x640 1 toilet, 116.5ms\n",
      "Speed: 4.7ms preprocess, 116.5ms inference, 1.2ms postprocess per image at shape (1, 3, 640, 640)\n",
      "\n",
      "0: 480x640 1 toilet, 149.3ms\n",
      "Speed: 4.2ms preprocess, 149.3ms inference, 1.2ms postprocess per image at shape (1, 3, 640, 640)\n",
      "\n",
      "0: 480x640 (no detections), 115.9ms\n",
      "Speed: 4.0ms preprocess, 115.9ms inference, 1.0ms postprocess per image at shape (1, 3, 640, 640)\n",
      "\n",
      "0: 480x640 1 toilet, 125.7ms\n",
      "Speed: 3.7ms preprocess, 125.7ms inference, 1.1ms postprocess per image at shape (1, 3, 640, 640)\n",
      "\n",
      "0: 480x640 1 toilet, 119.8ms\n",
      "Speed: 3.7ms preprocess, 119.8ms inference, 1.2ms postprocess per image at shape (1, 3, 640, 640)\n",
      "\n",
      "0: 480x640 1 toilet, 205.5ms\n",
      "Speed: 5.0ms preprocess, 205.5ms inference, 2.2ms postprocess per image at shape (1, 3, 640, 640)\n",
      "\n",
      "0: 480x640 1 toilet, 181.1ms\n",
      "Speed: 4.8ms preprocess, 181.1ms inference, 1.6ms postprocess per image at shape (1, 3, 640, 640)\n",
      "\n",
      "0: 480x640 (no detections), 184.6ms\n",
      "Speed: 3.0ms preprocess, 184.6ms inference, 1.0ms postprocess per image at shape (1, 3, 640, 640)\n",
      "\n",
      "0: 480x640 1 toilet, 190.1ms\n",
      "Speed: 4.4ms preprocess, 190.1ms inference, 1.6ms postprocess per image at shape (1, 3, 640, 640)\n",
      "\n",
      "0: 480x640 1 toilet, 159.0ms\n",
      "Speed: 7.9ms preprocess, 159.0ms inference, 1.3ms postprocess per image at shape (1, 3, 640, 640)\n",
      "\n",
      "0: 480x640 1 toilet, 117.6ms\n",
      "Speed: 3.6ms preprocess, 117.6ms inference, 1.2ms postprocess per image at shape (1, 3, 640, 640)\n",
      "\n",
      "0: 480x640 1 toilet, 143.9ms\n",
      "Speed: 3.5ms preprocess, 143.9ms inference, 1.3ms postprocess per image at shape (1, 3, 640, 640)\n",
      "\n",
      "0: 480x640 (no detections), 117.4ms\n",
      "Speed: 3.9ms preprocess, 117.4ms inference, 0.7ms postprocess per image at shape (1, 3, 640, 640)\n",
      "\n",
      "0: 480x640 1 toilet, 131.0ms\n",
      "Speed: 6.4ms preprocess, 131.0ms inference, 1.2ms postprocess per image at shape (1, 3, 640, 640)\n",
      "\n",
      "0: 480x640 1 toilet, 115.3ms\n",
      "Speed: 4.0ms preprocess, 115.3ms inference, 1.3ms postprocess per image at shape (1, 3, 640, 640)\n",
      "\n",
      "0: 480x640 1 toilet, 125.7ms\n",
      "Speed: 4.0ms preprocess, 125.7ms inference, 1.2ms postprocess per image at shape (1, 3, 640, 640)\n",
      "\n",
      "0: 480x640 (no detections), 116.6ms\n",
      "Speed: 5.8ms preprocess, 116.6ms inference, 0.7ms postprocess per image at shape (1, 3, 640, 640)\n",
      "\n",
      "0: 480x640 (no detections), 178.2ms\n",
      "Speed: 3.5ms preprocess, 178.2ms inference, 0.8ms postprocess per image at shape (1, 3, 640, 640)\n",
      "\n",
      "0: 480x640 1 toilet, 163.8ms\n",
      "Speed: 4.7ms preprocess, 163.8ms inference, 1.2ms postprocess per image at shape (1, 3, 640, 640)\n",
      "\n",
      "0: 480x640 1 toilet, 116.3ms\n",
      "Speed: 3.5ms preprocess, 116.3ms inference, 1.2ms postprocess per image at shape (1, 3, 640, 640)\n",
      "\n",
      "0: 480x640 1 toilet, 1 sink, 119.3ms\n",
      "Speed: 5.2ms preprocess, 119.3ms inference, 1.5ms postprocess per image at shape (1, 3, 640, 640)\n",
      "\n",
      "0: 480x640 1 toilet, 119.8ms\n",
      "Speed: 3.7ms preprocess, 119.8ms inference, 1.2ms postprocess per image at shape (1, 3, 640, 640)\n",
      "\n",
      "0: 480x640 1 toilet, 116.4ms\n",
      "Speed: 4.4ms preprocess, 116.4ms inference, 1.2ms postprocess per image at shape (1, 3, 640, 640)\n",
      "\n",
      "0: 480x640 (no detections), 132.1ms\n",
      "Speed: 6.7ms preprocess, 132.1ms inference, 0.6ms postprocess per image at shape (1, 3, 640, 640)\n",
      "\n",
      "0: 480x640 (no detections), 159.6ms\n",
      "Speed: 4.3ms preprocess, 159.6ms inference, 0.7ms postprocess per image at shape (1, 3, 640, 640)\n",
      "\n",
      "0: 480x640 (no detections), 118.8ms\n",
      "Speed: 4.2ms preprocess, 118.8ms inference, 0.7ms postprocess per image at shape (1, 3, 640, 640)\n",
      "\n",
      "0: 480x640 (no detections), 141.5ms\n",
      "Speed: 4.8ms preprocess, 141.5ms inference, 1.0ms postprocess per image at shape (1, 3, 640, 640)\n",
      "\n",
      "0: 480x640 (no detections), 128.7ms\n",
      "Speed: 3.8ms preprocess, 128.7ms inference, 0.6ms postprocess per image at shape (1, 3, 640, 640)\n",
      "\n",
      "0: 480x640 (no detections), 120.0ms\n",
      "Speed: 3.8ms preprocess, 120.0ms inference, 0.7ms postprocess per image at shape (1, 3, 640, 640)\n",
      "\n",
      "0: 480x640 (no detections), 120.0ms\n",
      "Speed: 4.0ms preprocess, 120.0ms inference, 0.8ms postprocess per image at shape (1, 3, 640, 640)\n",
      "\n",
      "0: 480x640 (no detections), 118.3ms\n",
      "Speed: 3.5ms preprocess, 118.3ms inference, 0.7ms postprocess per image at shape (1, 3, 640, 640)\n",
      "\n",
      "0: 480x640 (no detections), 127.0ms\n",
      "Speed: 3.3ms preprocess, 127.0ms inference, 0.7ms postprocess per image at shape (1, 3, 640, 640)\n",
      "\n",
      "0: 480x640 (no detections), 122.0ms\n",
      "Speed: 4.9ms preprocess, 122.0ms inference, 0.7ms postprocess per image at shape (1, 3, 640, 640)\n",
      "\n",
      "0: 480x640 (no detections), 117.5ms\n",
      "Speed: 3.4ms preprocess, 117.5ms inference, 0.6ms postprocess per image at shape (1, 3, 640, 640)\n",
      "\n",
      "0: 480x640 (no detections), 177.6ms\n",
      "Speed: 3.8ms preprocess, 177.6ms inference, 0.8ms postprocess per image at shape (1, 3, 640, 640)\n",
      "\n",
      "0: 480x640 (no detections), 199.8ms\n",
      "Speed: 5.3ms preprocess, 199.8ms inference, 1.0ms postprocess per image at shape (1, 3, 640, 640)\n",
      "\n",
      "0: 480x640 (no detections), 179.1ms\n",
      "Speed: 4.5ms preprocess, 179.1ms inference, 0.9ms postprocess per image at shape (1, 3, 640, 640)\n",
      "\n",
      "0: 480x640 (no detections), 179.9ms\n",
      "Speed: 7.4ms preprocess, 179.9ms inference, 1.0ms postprocess per image at shape (1, 3, 640, 640)\n",
      "\n",
      "0: 480x640 (no detections), 196.2ms\n",
      "Speed: 3.4ms preprocess, 196.2ms inference, 0.9ms postprocess per image at shape (1, 3, 640, 640)\n",
      "\n",
      "0: 480x640 (no detections), 134.2ms\n",
      "Speed: 3.6ms preprocess, 134.2ms inference, 0.6ms postprocess per image at shape (1, 3, 640, 640)\n",
      "\n",
      "0: 480x640 (no detections), 134.8ms\n",
      "Speed: 4.3ms preprocess, 134.8ms inference, 0.6ms postprocess per image at shape (1, 3, 640, 640)\n",
      "\n",
      "0: 480x640 (no detections), 121.9ms\n",
      "Speed: 3.6ms preprocess, 121.9ms inference, 0.7ms postprocess per image at shape (1, 3, 640, 640)\n",
      "\n",
      "0: 480x640 (no detections), 177.5ms\n",
      "Speed: 3.6ms preprocess, 177.5ms inference, 0.8ms postprocess per image at shape (1, 3, 640, 640)\n",
      "\n",
      "0: 480x640 (no detections), 116.9ms\n",
      "Speed: 4.9ms preprocess, 116.9ms inference, 0.6ms postprocess per image at shape (1, 3, 640, 640)\n",
      "\n",
      "0: 480x640 (no detections), 122.6ms\n",
      "Speed: 4.5ms preprocess, 122.6ms inference, 0.6ms postprocess per image at shape (1, 3, 640, 640)\n",
      "\n",
      "0: 480x640 (no detections), 117.9ms\n",
      "Speed: 3.7ms preprocess, 117.9ms inference, 0.6ms postprocess per image at shape (1, 3, 640, 640)\n",
      "\n",
      "0: 480x640 (no detections), 114.3ms\n",
      "Speed: 3.4ms preprocess, 114.3ms inference, 0.6ms postprocess per image at shape (1, 3, 640, 640)\n",
      "\n",
      "0: 480x640 (no detections), 123.3ms\n",
      "Speed: 3.2ms preprocess, 123.3ms inference, 0.8ms postprocess per image at shape (1, 3, 640, 640)\n",
      "\n",
      "0: 480x640 (no detections), 153.5ms\n",
      "Speed: 3.8ms preprocess, 153.5ms inference, 0.8ms postprocess per image at shape (1, 3, 640, 640)\n",
      "\n",
      "0: 480x640 (no detections), 140.2ms\n",
      "Speed: 3.4ms preprocess, 140.2ms inference, 0.6ms postprocess per image at shape (1, 3, 640, 640)\n",
      "\n",
      "0: 480x640 (no detections), 133.9ms\n",
      "Speed: 4.1ms preprocess, 133.9ms inference, 0.7ms postprocess per image at shape (1, 3, 640, 640)\n",
      "\n",
      "0: 480x640 (no detections), 120.7ms\n",
      "Speed: 3.8ms preprocess, 120.7ms inference, 0.7ms postprocess per image at shape (1, 3, 640, 640)\n",
      "\n",
      "0: 480x640 (no detections), 114.8ms\n",
      "Speed: 4.4ms preprocess, 114.8ms inference, 0.6ms postprocess per image at shape (1, 3, 640, 640)\n",
      "\n",
      "0: 480x640 (no detections), 116.2ms\n",
      "Speed: 3.9ms preprocess, 116.2ms inference, 0.7ms postprocess per image at shape (1, 3, 640, 640)\n",
      "\n",
      "0: 480x640 (no detections), 118.4ms\n",
      "Speed: 3.3ms preprocess, 118.4ms inference, 0.7ms postprocess per image at shape (1, 3, 640, 640)\n",
      "\n",
      "0: 480x640 (no detections), 119.1ms\n",
      "Speed: 3.5ms preprocess, 119.1ms inference, 0.6ms postprocess per image at shape (1, 3, 640, 640)\n",
      "\n",
      "0: 480x640 (no detections), 125.0ms\n",
      "Speed: 3.4ms preprocess, 125.0ms inference, 0.7ms postprocess per image at shape (1, 3, 640, 640)\n",
      "\n",
      "0: 480x640 (no detections), 180.2ms\n",
      "Speed: 3.9ms preprocess, 180.2ms inference, 0.8ms postprocess per image at shape (1, 3, 640, 640)\n",
      "\n",
      "0: 480x640 (no detections), 121.0ms\n",
      "Speed: 2.9ms preprocess, 121.0ms inference, 0.7ms postprocess per image at shape (1, 3, 640, 640)\n",
      "\n",
      "0: 480x640 (no detections), 136.3ms\n",
      "Speed: 3.8ms preprocess, 136.3ms inference, 0.7ms postprocess per image at shape (1, 3, 640, 640)\n",
      "\n",
      "0: 480x640 (no detections), 134.8ms\n",
      "Speed: 4.1ms preprocess, 134.8ms inference, 1.8ms postprocess per image at shape (1, 3, 640, 640)\n",
      "\n",
      "0: 480x640 (no detections), 143.6ms\n",
      "Speed: 5.1ms preprocess, 143.6ms inference, 0.7ms postprocess per image at shape (1, 3, 640, 640)\n",
      "\n",
      "0: 480x640 (no detections), 123.7ms\n",
      "Speed: 5.3ms preprocess, 123.7ms inference, 0.9ms postprocess per image at shape (1, 3, 640, 640)\n",
      "\n",
      "0: 480x640 (no detections), 164.8ms\n",
      "Speed: 4.1ms preprocess, 164.8ms inference, 0.7ms postprocess per image at shape (1, 3, 640, 640)\n",
      "\n",
      "0: 480x640 (no detections), 161.8ms\n",
      "Speed: 4.1ms preprocess, 161.8ms inference, 0.7ms postprocess per image at shape (1, 3, 640, 640)\n",
      "\n",
      "0: 480x640 (no detections), 134.4ms\n",
      "Speed: 3.6ms preprocess, 134.4ms inference, 0.7ms postprocess per image at shape (1, 3, 640, 640)\n",
      "\n",
      "0: 480x640 (no detections), 188.8ms\n",
      "Speed: 5.3ms preprocess, 188.8ms inference, 0.7ms postprocess per image at shape (1, 3, 640, 640)\n",
      "\n",
      "0: 480x640 (no detections), 129.4ms\n",
      "Speed: 3.7ms preprocess, 129.4ms inference, 0.8ms postprocess per image at shape (1, 3, 640, 640)\n",
      "\n",
      "0: 480x640 (no detections), 146.5ms\n",
      "Speed: 4.3ms preprocess, 146.5ms inference, 0.8ms postprocess per image at shape (1, 3, 640, 640)\n",
      "\n",
      "0: 480x640 (no detections), 131.1ms\n",
      "Speed: 3.3ms preprocess, 131.1ms inference, 0.7ms postprocess per image at shape (1, 3, 640, 640)\n",
      "\n",
      "0: 480x640 (no detections), 132.8ms\n",
      "Speed: 3.8ms preprocess, 132.8ms inference, 0.7ms postprocess per image at shape (1, 3, 640, 640)\n",
      "\n",
      "0: 480x640 (no detections), 135.4ms\n",
      "Speed: 3.3ms preprocess, 135.4ms inference, 0.7ms postprocess per image at shape (1, 3, 640, 640)\n",
      "\n",
      "0: 480x640 (no detections), 170.8ms\n",
      "Speed: 3.7ms preprocess, 170.8ms inference, 0.6ms postprocess per image at shape (1, 3, 640, 640)\n",
      "\n",
      "0: 480x640 (no detections), 160.1ms\n",
      "Speed: 5.6ms preprocess, 160.1ms inference, 0.8ms postprocess per image at shape (1, 3, 640, 640)\n",
      "\n",
      "0: 480x640 (no detections), 175.5ms\n",
      "Speed: 3.6ms preprocess, 175.5ms inference, 0.8ms postprocess per image at shape (1, 3, 640, 640)\n",
      "\n",
      "0: 480x640 (no detections), 141.4ms\n",
      "Speed: 4.7ms preprocess, 141.4ms inference, 0.7ms postprocess per image at shape (1, 3, 640, 640)\n",
      "\n",
      "0: 480x640 (no detections), 117.4ms\n",
      "Speed: 3.4ms preprocess, 117.4ms inference, 0.7ms postprocess per image at shape (1, 3, 640, 640)\n",
      "\n",
      "0: 480x640 (no detections), 120.7ms\n",
      "Speed: 3.5ms preprocess, 120.7ms inference, 0.6ms postprocess per image at shape (1, 3, 640, 640)\n",
      "\n",
      "0: 480x640 (no detections), 147.0ms\n",
      "Speed: 3.3ms preprocess, 147.0ms inference, 0.7ms postprocess per image at shape (1, 3, 640, 640)\n",
      "\n",
      "0: 480x640 (no detections), 123.9ms\n",
      "Speed: 4.7ms preprocess, 123.9ms inference, 0.7ms postprocess per image at shape (1, 3, 640, 640)\n",
      "\n",
      "0: 480x640 (no detections), 183.9ms\n",
      "Speed: 4.5ms preprocess, 183.9ms inference, 1.0ms postprocess per image at shape (1, 3, 640, 640)\n",
      "\n",
      "0: 480x640 (no detections), 187.4ms\n",
      "Speed: 5.4ms preprocess, 187.4ms inference, 1.0ms postprocess per image at shape (1, 3, 640, 640)\n",
      "\n",
      "0: 480x640 (no detections), 177.6ms\n",
      "Speed: 4.9ms preprocess, 177.6ms inference, 0.9ms postprocess per image at shape (1, 3, 640, 640)\n",
      "\n",
      "0: 480x640 (no detections), 161.0ms\n",
      "Speed: 4.4ms preprocess, 161.0ms inference, 0.6ms postprocess per image at shape (1, 3, 640, 640)\n",
      "\n",
      "0: 480x640 (no detections), 174.7ms\n",
      "Speed: 3.4ms preprocess, 174.7ms inference, 0.8ms postprocess per image at shape (1, 3, 640, 640)\n",
      "\n",
      "0: 480x640 (no detections), 119.3ms\n",
      "Speed: 3.4ms preprocess, 119.3ms inference, 0.6ms postprocess per image at shape (1, 3, 640, 640)\n",
      "\n",
      "0: 480x640 (no detections), 181.0ms\n",
      "Speed: 3.8ms preprocess, 181.0ms inference, 0.8ms postprocess per image at shape (1, 3, 640, 640)\n",
      "\n",
      "0: 480x640 (no detections), 118.2ms\n",
      "Speed: 4.2ms preprocess, 118.2ms inference, 0.7ms postprocess per image at shape (1, 3, 640, 640)\n",
      "\n",
      "0: 480x640 (no detections), 119.2ms\n",
      "Speed: 4.9ms preprocess, 119.2ms inference, 0.7ms postprocess per image at shape (1, 3, 640, 640)\n",
      "\n",
      "0: 480x640 (no detections), 118.4ms\n",
      "Speed: 3.9ms preprocess, 118.4ms inference, 0.6ms postprocess per image at shape (1, 3, 640, 640)\n",
      "\n",
      "0: 480x640 (no detections), 153.0ms\n",
      "Speed: 4.5ms preprocess, 153.0ms inference, 0.7ms postprocess per image at shape (1, 3, 640, 640)\n",
      "\n",
      "0: 480x640 (no detections), 130.5ms\n",
      "Speed: 4.0ms preprocess, 130.5ms inference, 0.7ms postprocess per image at shape (1, 3, 640, 640)\n",
      "\n",
      "0: 480x640 (no detections), 134.9ms\n",
      "Speed: 3.8ms preprocess, 134.9ms inference, 0.7ms postprocess per image at shape (1, 3, 640, 640)\n",
      "\n",
      "0: 480x640 (no detections), 130.0ms\n",
      "Speed: 3.6ms preprocess, 130.0ms inference, 0.8ms postprocess per image at shape (1, 3, 640, 640)\n",
      "\n",
      "0: 480x640 (no detections), 127.6ms\n",
      "Speed: 4.0ms preprocess, 127.6ms inference, 0.7ms postprocess per image at shape (1, 3, 640, 640)\n",
      "\n",
      "0: 480x640 (no detections), 135.3ms\n",
      "Speed: 3.5ms preprocess, 135.3ms inference, 0.7ms postprocess per image at shape (1, 3, 640, 640)\n",
      "\n",
      "0: 480x640 1 toilet, 126.0ms\n",
      "Speed: 3.9ms preprocess, 126.0ms inference, 1.3ms postprocess per image at shape (1, 3, 640, 640)\n",
      "\n",
      "0: 480x640 1 toilet, 133.7ms\n",
      "Speed: 3.5ms preprocess, 133.7ms inference, 1.3ms postprocess per image at shape (1, 3, 640, 640)\n",
      "\n",
      "0: 480x640 1 toilet, 129.8ms\n",
      "Speed: 4.2ms preprocess, 129.8ms inference, 1.3ms postprocess per image at shape (1, 3, 640, 640)\n",
      "\n",
      "0: 480x640 1 toilet, 139.9ms\n",
      "Speed: 4.3ms preprocess, 139.9ms inference, 1.3ms postprocess per image at shape (1, 3, 640, 640)\n",
      "\n",
      "0: 480x640 1 toilet, 1 mouse, 130.8ms\n",
      "Speed: 3.5ms preprocess, 130.8ms inference, 1.5ms postprocess per image at shape (1, 3, 640, 640)\n",
      "\n",
      "0: 480x640 1 toilet, 186.2ms\n",
      "Speed: 3.8ms preprocess, 186.2ms inference, 1.3ms postprocess per image at shape (1, 3, 640, 640)\n",
      "\n",
      "0: 480x640 1 toilet, 132.8ms\n",
      "Speed: 3.7ms preprocess, 132.8ms inference, 1.3ms postprocess per image at shape (1, 3, 640, 640)\n",
      "\n",
      "0: 480x640 1 toilet, 136.4ms\n",
      "Speed: 5.9ms preprocess, 136.4ms inference, 1.3ms postprocess per image at shape (1, 3, 640, 640)\n",
      "\n",
      "0: 480x640 1 toilet, 127.2ms\n",
      "Speed: 3.9ms preprocess, 127.2ms inference, 1.2ms postprocess per image at shape (1, 3, 640, 640)\n",
      "\n",
      "0: 480x640 1 toilet, 200.5ms\n",
      "Speed: 5.9ms preprocess, 200.5ms inference, 1.6ms postprocess per image at shape (1, 3, 640, 640)\n",
      "\n",
      "0: 480x640 1 toilet, 148.3ms\n",
      "Speed: 3.3ms preprocess, 148.3ms inference, 1.4ms postprocess per image at shape (1, 3, 640, 640)\n",
      "\n",
      "0: 480x640 1 toilet, 134.5ms\n",
      "Speed: 4.9ms preprocess, 134.5ms inference, 1.3ms postprocess per image at shape (1, 3, 640, 640)\n",
      "\n",
      "0: 480x640 1 toilet, 128.3ms\n",
      "Speed: 4.5ms preprocess, 128.3ms inference, 1.3ms postprocess per image at shape (1, 3, 640, 640)\n",
      "\n",
      "0: 480x640 (no detections), 225.7ms\n",
      "Speed: 5.2ms preprocess, 225.7ms inference, 0.8ms postprocess per image at shape (1, 3, 640, 640)\n",
      "\n",
      "0: 480x640 (no detections), 119.6ms\n",
      "Speed: 4.5ms preprocess, 119.6ms inference, 0.7ms postprocess per image at shape (1, 3, 640, 640)\n",
      "\n",
      "0: 480x640 1 toilet, 133.8ms\n",
      "Speed: 5.7ms preprocess, 133.8ms inference, 1.2ms postprocess per image at shape (1, 3, 640, 640)\n",
      "\n",
      "0: 480x640 1 toilet, 118.9ms\n",
      "Speed: 3.9ms preprocess, 118.9ms inference, 1.2ms postprocess per image at shape (1, 3, 640, 640)\n",
      "\n",
      "0: 480x640 1 toilet, 166.3ms\n",
      "Speed: 3.5ms preprocess, 166.3ms inference, 1.4ms postprocess per image at shape (1, 3, 640, 640)\n",
      "\n",
      "0: 480x640 1 toilet, 123.8ms\n",
      "Speed: 3.6ms preprocess, 123.8ms inference, 1.2ms postprocess per image at shape (1, 3, 640, 640)\n",
      "\n",
      "0: 480x640 (no detections), 185.2ms\n",
      "Speed: 4.2ms preprocess, 185.2ms inference, 1.0ms postprocess per image at shape (1, 3, 640, 640)\n",
      "\n",
      "0: 480x640 (no detections), 196.8ms\n",
      "Speed: 4.0ms preprocess, 196.8ms inference, 0.8ms postprocess per image at shape (1, 3, 640, 640)\n",
      "\n",
      "0: 480x640 (no detections), 128.5ms\n",
      "Speed: 3.6ms preprocess, 128.5ms inference, 1.0ms postprocess per image at shape (1, 3, 640, 640)\n",
      "\n",
      "0: 480x640 (no detections), 189.5ms\n",
      "Speed: 5.7ms preprocess, 189.5ms inference, 0.8ms postprocess per image at shape (1, 3, 640, 640)\n",
      "\n",
      "0: 480x640 (no detections), 175.9ms\n",
      "Speed: 4.2ms preprocess, 175.9ms inference, 0.7ms postprocess per image at shape (1, 3, 640, 640)\n",
      "\n",
      "0: 480x640 (no detections), 155.6ms\n",
      "Speed: 5.4ms preprocess, 155.6ms inference, 0.7ms postprocess per image at shape (1, 3, 640, 640)\n",
      "\n",
      "0: 480x640 (no detections), 231.9ms\n",
      "Speed: 3.8ms preprocess, 231.9ms inference, 1.0ms postprocess per image at shape (1, 3, 640, 640)\n",
      "\n",
      "0: 480x640 (no detections), 205.4ms\n",
      "Speed: 5.5ms preprocess, 205.4ms inference, 1.1ms postprocess per image at shape (1, 3, 640, 640)\n",
      "\n",
      "0: 480x640 (no detections), 197.5ms\n",
      "Speed: 14.1ms preprocess, 197.5ms inference, 0.8ms postprocess per image at shape (1, 3, 640, 640)\n",
      "\n",
      "0: 480x640 (no detections), 188.4ms\n",
      "Speed: 3.2ms preprocess, 188.4ms inference, 0.8ms postprocess per image at shape (1, 3, 640, 640)\n",
      "\n",
      "0: 480x640 (no detections), 157.6ms\n",
      "Speed: 5.1ms preprocess, 157.6ms inference, 0.7ms postprocess per image at shape (1, 3, 640, 640)\n",
      "\n",
      "0: 480x640 (no detections), 146.2ms\n",
      "Speed: 4.0ms preprocess, 146.2ms inference, 0.7ms postprocess per image at shape (1, 3, 640, 640)\n",
      "\n",
      "0: 480x640 (no detections), 191.6ms\n",
      "Speed: 4.6ms preprocess, 191.6ms inference, 0.8ms postprocess per image at shape (1, 3, 640, 640)\n",
      "\n",
      "0: 480x640 (no detections), 129.5ms\n",
      "Speed: 5.3ms preprocess, 129.5ms inference, 0.7ms postprocess per image at shape (1, 3, 640, 640)\n",
      "\n",
      "0: 480x640 (no detections), 131.1ms\n",
      "Speed: 2.6ms preprocess, 131.1ms inference, 0.7ms postprocess per image at shape (1, 3, 640, 640)\n",
      "\n",
      "0: 480x640 (no detections), 200.6ms\n",
      "Speed: 2.9ms preprocess, 200.6ms inference, 1.1ms postprocess per image at shape (1, 3, 640, 640)\n",
      "\n",
      "0: 480x640 1 toilet, 176.1ms\n",
      "Speed: 4.9ms preprocess, 176.1ms inference, 1.3ms postprocess per image at shape (1, 3, 640, 640)\n",
      "\n",
      "0: 480x640 (no detections), 138.9ms\n",
      "Speed: 5.2ms preprocess, 138.9ms inference, 0.8ms postprocess per image at shape (1, 3, 640, 640)\n",
      "\n",
      "0: 480x640 1 scissors, 147.7ms\n",
      "Speed: 3.2ms preprocess, 147.7ms inference, 1.4ms postprocess per image at shape (1, 3, 640, 640)\n",
      "\n",
      "0: 480x640 (no detections), 169.1ms\n",
      "Speed: 3.9ms preprocess, 169.1ms inference, 0.6ms postprocess per image at shape (1, 3, 640, 640)\n",
      "\n",
      "0: 480x640 (no detections), 172.9ms\n",
      "Speed: 5.2ms preprocess, 172.9ms inference, 0.8ms postprocess per image at shape (1, 3, 640, 640)\n",
      "\n",
      "0: 480x640 (no detections), 125.9ms\n",
      "Speed: 4.1ms preprocess, 125.9ms inference, 0.6ms postprocess per image at shape (1, 3, 640, 640)\n",
      "\n",
      "0: 480x640 (no detections), 138.4ms\n",
      "Speed: 3.4ms preprocess, 138.4ms inference, 0.6ms postprocess per image at shape (1, 3, 640, 640)\n",
      "\n",
      "0: 480x640 (no detections), 129.7ms\n",
      "Speed: 3.4ms preprocess, 129.7ms inference, 0.9ms postprocess per image at shape (1, 3, 640, 640)\n",
      "\n",
      "0: 480x640 (no detections), 119.6ms\n",
      "Speed: 3.2ms preprocess, 119.6ms inference, 0.7ms postprocess per image at shape (1, 3, 640, 640)\n",
      "\n",
      "0: 480x640 (no detections), 127.5ms\n",
      "Speed: 3.9ms preprocess, 127.5ms inference, 0.7ms postprocess per image at shape (1, 3, 640, 640)\n",
      "\n",
      "0: 480x640 (no detections), 145.6ms\n",
      "Speed: 3.7ms preprocess, 145.6ms inference, 0.7ms postprocess per image at shape (1, 3, 640, 640)\n",
      "\n",
      "0: 480x640 (no detections), 112.4ms\n",
      "Speed: 3.2ms preprocess, 112.4ms inference, 0.6ms postprocess per image at shape (1, 3, 640, 640)\n",
      "\n",
      "0: 480x640 (no detections), 158.2ms\n",
      "Speed: 4.5ms preprocess, 158.2ms inference, 0.8ms postprocess per image at shape (1, 3, 640, 640)\n",
      "\n",
      "0: 480x640 (no detections), 198.1ms\n",
      "Speed: 3.8ms preprocess, 198.1ms inference, 0.7ms postprocess per image at shape (1, 3, 640, 640)\n",
      "\n",
      "0: 480x640 (no detections), 127.2ms\n",
      "Speed: 3.1ms preprocess, 127.2ms inference, 0.7ms postprocess per image at shape (1, 3, 640, 640)\n",
      "\n",
      "0: 480x640 (no detections), 195.4ms\n",
      "Speed: 4.6ms preprocess, 195.4ms inference, 0.9ms postprocess per image at shape (1, 3, 640, 640)\n",
      "\n",
      "0: 480x640 (no detections), 128.2ms\n",
      "Speed: 3.3ms preprocess, 128.2ms inference, 0.7ms postprocess per image at shape (1, 3, 640, 640)\n",
      "\n",
      "0: 480x640 (no detections), 195.6ms\n",
      "Speed: 4.1ms preprocess, 195.6ms inference, 1.0ms postprocess per image at shape (1, 3, 640, 640)\n",
      "\n",
      "0: 480x640 (no detections), 222.5ms\n",
      "Speed: 8.9ms preprocess, 222.5ms inference, 1.0ms postprocess per image at shape (1, 3, 640, 640)\n",
      "\n",
      "0: 480x640 (no detections), 211.8ms\n",
      "Speed: 4.1ms preprocess, 211.8ms inference, 0.9ms postprocess per image at shape (1, 3, 640, 640)\n",
      "\n",
      "0: 480x640 (no detections), 198.4ms\n",
      "Speed: 5.6ms preprocess, 198.4ms inference, 0.9ms postprocess per image at shape (1, 3, 640, 640)\n",
      "\n",
      "0: 480x640 1 toilet, 202.3ms\n",
      "Speed: 7.1ms preprocess, 202.3ms inference, 1.5ms postprocess per image at shape (1, 3, 640, 640)\n",
      "\n",
      "0: 480x640 (no detections), 191.0ms\n",
      "Speed: 5.0ms preprocess, 191.0ms inference, 0.8ms postprocess per image at shape (1, 3, 640, 640)\n",
      "\n",
      "0: 480x640 1 toilet, 133.4ms\n",
      "Speed: 4.0ms preprocess, 133.4ms inference, 1.3ms postprocess per image at shape (1, 3, 640, 640)\n",
      "\n",
      "0: 480x640 (no detections), 128.0ms\n",
      "Speed: 5.4ms preprocess, 128.0ms inference, 0.9ms postprocess per image at shape (1, 3, 640, 640)\n",
      "\n",
      "0: 480x640 (no detections), 165.8ms\n",
      "Speed: 4.0ms preprocess, 165.8ms inference, 0.7ms postprocess per image at shape (1, 3, 640, 640)\n",
      "\n",
      "0: 480x640 (no detections), 126.1ms\n",
      "Speed: 3.7ms preprocess, 126.1ms inference, 0.8ms postprocess per image at shape (1, 3, 640, 640)\n",
      "\n",
      "0: 480x640 (no detections), 179.9ms\n",
      "Speed: 4.6ms preprocess, 179.9ms inference, 0.8ms postprocess per image at shape (1, 3, 640, 640)\n",
      "\n",
      "0: 480x640 (no detections), 188.2ms\n",
      "Speed: 4.4ms preprocess, 188.2ms inference, 0.7ms postprocess per image at shape (1, 3, 640, 640)\n",
      "\n",
      "0: 480x640 (no detections), 118.0ms\n",
      "Speed: 3.8ms preprocess, 118.0ms inference, 0.6ms postprocess per image at shape (1, 3, 640, 640)\n",
      "\n",
      "0: 480x640 (no detections), 116.8ms\n",
      "Speed: 3.3ms preprocess, 116.8ms inference, 0.6ms postprocess per image at shape (1, 3, 640, 640)\n",
      "\n",
      "0: 480x640 (no detections), 140.2ms\n",
      "Speed: 3.6ms preprocess, 140.2ms inference, 0.7ms postprocess per image at shape (1, 3, 640, 640)\n",
      "\n",
      "0: 480x640 (no detections), 173.2ms\n",
      "Speed: 6.5ms preprocess, 173.2ms inference, 0.8ms postprocess per image at shape (1, 3, 640, 640)\n",
      "\n",
      "0: 480x640 (no detections), 172.3ms\n",
      "Speed: 4.2ms preprocess, 172.3ms inference, 0.8ms postprocess per image at shape (1, 3, 640, 640)\n",
      "\n",
      "0: 480x640 (no detections), 120.2ms\n",
      "Speed: 2.7ms preprocess, 120.2ms inference, 0.7ms postprocess per image at shape (1, 3, 640, 640)\n",
      "\n",
      "0: 480x640 (no detections), 126.3ms\n",
      "Speed: 4.2ms preprocess, 126.3ms inference, 0.7ms postprocess per image at shape (1, 3, 640, 640)\n",
      "\n",
      "0: 480x640 (no detections), 114.7ms\n",
      "Speed: 5.6ms preprocess, 114.7ms inference, 0.7ms postprocess per image at shape (1, 3, 640, 640)\n",
      "\n",
      "0: 480x640 (no detections), 115.4ms\n",
      "Speed: 4.9ms preprocess, 115.4ms inference, 0.7ms postprocess per image at shape (1, 3, 640, 640)\n",
      "\n",
      "0: 480x640 (no detections), 175.6ms\n",
      "Speed: 3.3ms preprocess, 175.6ms inference, 0.9ms postprocess per image at shape (1, 3, 640, 640)\n",
      "\n",
      "0: 480x640 (no detections), 158.4ms\n",
      "Speed: 3.9ms preprocess, 158.4ms inference, 0.9ms postprocess per image at shape (1, 3, 640, 640)\n",
      "\n",
      "0: 480x640 (no detections), 191.8ms\n",
      "Speed: 4.4ms preprocess, 191.8ms inference, 0.7ms postprocess per image at shape (1, 3, 640, 640)\n",
      "\n",
      "0: 480x640 (no detections), 199.2ms\n",
      "Speed: 4.5ms preprocess, 199.2ms inference, 0.9ms postprocess per image at shape (1, 3, 640, 640)\n",
      "\n",
      "0: 480x640 (no detections), 180.4ms\n",
      "Speed: 4.4ms preprocess, 180.4ms inference, 0.9ms postprocess per image at shape (1, 3, 640, 640)\n",
      "\n",
      "0: 480x640 (no detections), 166.5ms\n",
      "Speed: 4.0ms preprocess, 166.5ms inference, 0.8ms postprocess per image at shape (1, 3, 640, 640)\n",
      "\n",
      "0: 480x640 (no detections), 204.7ms\n",
      "Speed: 4.5ms preprocess, 204.7ms inference, 1.1ms postprocess per image at shape (1, 3, 640, 640)\n",
      "\n",
      "0: 480x640 (no detections), 236.7ms\n",
      "Speed: 4.7ms preprocess, 236.7ms inference, 0.8ms postprocess per image at shape (1, 3, 640, 640)\n",
      "\n",
      "0: 480x640 1 knife, 190.3ms\n",
      "Speed: 4.4ms preprocess, 190.3ms inference, 1.4ms postprocess per image at shape (1, 3, 640, 640)\n",
      "\n",
      "0: 480x640 (no detections), 212.6ms\n",
      "Speed: 4.0ms preprocess, 212.6ms inference, 0.9ms postprocess per image at shape (1, 3, 640, 640)\n",
      "\n",
      "0: 480x640 (no detections), 140.0ms\n",
      "Speed: 5.2ms preprocess, 140.0ms inference, 1.1ms postprocess per image at shape (1, 3, 640, 640)\n",
      "\n",
      "0: 480x640 (no detections), 134.6ms\n",
      "Speed: 3.8ms preprocess, 134.6ms inference, 0.7ms postprocess per image at shape (1, 3, 640, 640)\n",
      "\n",
      "0: 480x640 (no detections), 196.7ms\n",
      "Speed: 2.6ms preprocess, 196.7ms inference, 0.9ms postprocess per image at shape (1, 3, 640, 640)\n",
      "\n",
      "0: 480x640 (no detections), 129.4ms\n",
      "Speed: 3.1ms preprocess, 129.4ms inference, 0.7ms postprocess per image at shape (1, 3, 640, 640)\n",
      "\n",
      "0: 480x640 1 person, 129.0ms\n",
      "Speed: 3.7ms preprocess, 129.0ms inference, 1.3ms postprocess per image at shape (1, 3, 640, 640)\n"
     ]
    },
    {
     "name": "stdout",
     "output_type": "stream",
     "text": [
      "🟢 Detected: person: 0.58 at (10, 52, 577, 479)\n",
      "🚨 Alert: Person detected!\n"
     ]
    },
    {
     "name": "stderr",
     "output_type": "stream",
     "text": [
      "\n",
      "0: 480x640 (no detections), 130.2ms\n",
      "Speed: 3.3ms preprocess, 130.2ms inference, 0.7ms postprocess per image at shape (1, 3, 640, 640)\n",
      "\n"
     ]
    },
    {
     "name": "stdout",
     "output_type": "stream",
     "text": [
      "📸 Alert snapshot saved: alert_person_20250618_015216.jpg\n"
     ]
    },
    {
     "name": "stderr",
     "output_type": "stream",
     "text": [
      "0: 480x640 1 airplane, 135.4ms\n",
      "Speed: 4.6ms preprocess, 135.4ms inference, 1.1ms postprocess per image at shape (1, 3, 640, 640)\n",
      "\n",
      "0: 480x640 (no detections), 175.6ms\n",
      "Speed: 3.7ms preprocess, 175.6ms inference, 0.9ms postprocess per image at shape (1, 3, 640, 640)\n",
      "\n",
      "0: 480x640 1 airplane, 133.0ms\n",
      "Speed: 3.4ms preprocess, 133.0ms inference, 1.2ms postprocess per image at shape (1, 3, 640, 640)\n",
      "\n",
      "0: 480x640 (no detections), 118.3ms\n",
      "Speed: 4.3ms preprocess, 118.3ms inference, 0.6ms postprocess per image at shape (1, 3, 640, 640)\n",
      "\n",
      "0: 480x640 (no detections), 115.6ms\n",
      "Speed: 4.9ms preprocess, 115.6ms inference, 0.7ms postprocess per image at shape (1, 3, 640, 640)\n",
      "\n",
      "0: 480x640 (no detections), 119.9ms\n",
      "Speed: 3.3ms preprocess, 119.9ms inference, 0.6ms postprocess per image at shape (1, 3, 640, 640)\n",
      "\n",
      "0: 480x640 1 airplane, 114.5ms\n",
      "Speed: 2.8ms preprocess, 114.5ms inference, 1.2ms postprocess per image at shape (1, 3, 640, 640)\n",
      "\n",
      "0: 480x640 (no detections), 121.9ms\n",
      "Speed: 4.1ms preprocess, 121.9ms inference, 0.7ms postprocess per image at shape (1, 3, 640, 640)\n",
      "\n",
      "0: 480x640 (no detections), 126.6ms\n",
      "Speed: 4.4ms preprocess, 126.6ms inference, 0.7ms postprocess per image at shape (1, 3, 640, 640)\n",
      "\n",
      "0: 480x640 (no detections), 129.0ms\n",
      "Speed: 2.8ms preprocess, 129.0ms inference, 0.7ms postprocess per image at shape (1, 3, 640, 640)\n",
      "\n",
      "0: 480x640 (no detections), 117.6ms\n",
      "Speed: 4.1ms preprocess, 117.6ms inference, 0.7ms postprocess per image at shape (1, 3, 640, 640)\n",
      "\n",
      "0: 480x640 (no detections), 123.3ms\n",
      "Speed: 2.9ms preprocess, 123.3ms inference, 0.7ms postprocess per image at shape (1, 3, 640, 640)\n",
      "\n",
      "0: 480x640 (no detections), 119.1ms\n",
      "Speed: 3.6ms preprocess, 119.1ms inference, 0.7ms postprocess per image at shape (1, 3, 640, 640)\n",
      "\n",
      "0: 480x640 (no detections), 118.9ms\n",
      "Speed: 6.7ms preprocess, 118.9ms inference, 0.6ms postprocess per image at shape (1, 3, 640, 640)\n",
      "\n",
      "0: 480x640 (no detections), 117.5ms\n",
      "Speed: 3.6ms preprocess, 117.5ms inference, 0.6ms postprocess per image at shape (1, 3, 640, 640)\n",
      "\n",
      "0: 480x640 (no detections), 177.1ms\n",
      "Speed: 3.1ms preprocess, 177.1ms inference, 0.7ms postprocess per image at shape (1, 3, 640, 640)\n",
      "\n",
      "0: 480x640 (no detections), 134.7ms\n",
      "Speed: 3.9ms preprocess, 134.7ms inference, 0.6ms postprocess per image at shape (1, 3, 640, 640)\n",
      "\n",
      "0: 480x640 (no detections), 127.1ms\n",
      "Speed: 4.0ms preprocess, 127.1ms inference, 0.7ms postprocess per image at shape (1, 3, 640, 640)\n",
      "\n",
      "0: 480x640 (no detections), 162.4ms\n",
      "Speed: 3.4ms preprocess, 162.4ms inference, 0.7ms postprocess per image at shape (1, 3, 640, 640)\n",
      "\n",
      "0: 480x640 (no detections), 116.7ms\n",
      "Speed: 3.6ms preprocess, 116.7ms inference, 0.8ms postprocess per image at shape (1, 3, 640, 640)\n",
      "\n",
      "0: 480x640 (no detections), 118.0ms\n",
      "Speed: 4.0ms preprocess, 118.0ms inference, 0.7ms postprocess per image at shape (1, 3, 640, 640)\n",
      "\n",
      "0: 480x640 (no detections), 118.6ms\n",
      "Speed: 3.5ms preprocess, 118.6ms inference, 0.6ms postprocess per image at shape (1, 3, 640, 640)\n",
      "\n",
      "0: 480x640 (no detections), 119.9ms\n",
      "Speed: 4.2ms preprocess, 119.9ms inference, 0.7ms postprocess per image at shape (1, 3, 640, 640)\n",
      "\n",
      "0: 480x640 (no detections), 125.6ms\n",
      "Speed: 5.6ms preprocess, 125.6ms inference, 0.6ms postprocess per image at shape (1, 3, 640, 640)\n",
      "\n",
      "0: 480x640 (no detections), 127.4ms\n",
      "Speed: 3.3ms preprocess, 127.4ms inference, 0.7ms postprocess per image at shape (1, 3, 640, 640)\n",
      "\n",
      "0: 480x640 (no detections), 179.8ms\n",
      "Speed: 3.7ms preprocess, 179.8ms inference, 0.7ms postprocess per image at shape (1, 3, 640, 640)\n",
      "\n",
      "0: 480x640 (no detections), 123.2ms\n",
      "Speed: 3.6ms preprocess, 123.2ms inference, 0.7ms postprocess per image at shape (1, 3, 640, 640)\n",
      "\n",
      "0: 480x640 (no detections), 118.3ms\n",
      "Speed: 3.6ms preprocess, 118.3ms inference, 0.7ms postprocess per image at shape (1, 3, 640, 640)\n",
      "\n",
      "0: 480x640 (no detections), 116.9ms\n",
      "Speed: 4.4ms preprocess, 116.9ms inference, 0.7ms postprocess per image at shape (1, 3, 640, 640)\n",
      "\n",
      "0: 480x640 (no detections), 121.9ms\n",
      "Speed: 5.0ms preprocess, 121.9ms inference, 0.6ms postprocess per image at shape (1, 3, 640, 640)\n",
      "\n",
      "0: 480x640 (no detections), 117.0ms\n",
      "Speed: 4.5ms preprocess, 117.0ms inference, 0.7ms postprocess per image at shape (1, 3, 640, 640)\n",
      "\n",
      "0: 480x640 (no detections), 117.9ms\n",
      "Speed: 3.8ms preprocess, 117.9ms inference, 0.7ms postprocess per image at shape (1, 3, 640, 640)\n",
      "\n",
      "0: 480x640 (no detections), 117.4ms\n",
      "Speed: 2.8ms preprocess, 117.4ms inference, 0.6ms postprocess per image at shape (1, 3, 640, 640)\n",
      "\n",
      "0: 480x640 (no detections), 117.3ms\n",
      "Speed: 3.7ms preprocess, 117.3ms inference, 0.6ms postprocess per image at shape (1, 3, 640, 640)\n",
      "\n",
      "0: 480x640 (no detections), 171.1ms\n",
      "Speed: 3.9ms preprocess, 171.1ms inference, 0.7ms postprocess per image at shape (1, 3, 640, 640)\n",
      "\n",
      "0: 480x640 (no detections), 189.6ms\n",
      "Speed: 5.0ms preprocess, 189.6ms inference, 0.9ms postprocess per image at shape (1, 3, 640, 640)\n",
      "\n",
      "0: 480x640 (no detections), 198.7ms\n",
      "Speed: 4.5ms preprocess, 198.7ms inference, 1.0ms postprocess per image at shape (1, 3, 640, 640)\n",
      "\n",
      "0: 480x640 (no detections), 276.1ms\n",
      "Speed: 5.5ms preprocess, 276.1ms inference, 0.8ms postprocess per image at shape (1, 3, 640, 640)\n",
      "\n",
      "0: 480x640 (no detections), 183.7ms\n",
      "Speed: 3.3ms preprocess, 183.7ms inference, 0.9ms postprocess per image at shape (1, 3, 640, 640)\n",
      "\n",
      "0: 480x640 (no detections), 181.0ms\n",
      "Speed: 2.9ms preprocess, 181.0ms inference, 0.8ms postprocess per image at shape (1, 3, 640, 640)\n",
      "\n",
      "0: 480x640 (no detections), 270.1ms\n",
      "Speed: 10.5ms preprocess, 270.1ms inference, 0.8ms postprocess per image at shape (1, 3, 640, 640)\n",
      "\n",
      "0: 480x640 (no detections), 180.9ms\n",
      "Speed: 4.7ms preprocess, 180.9ms inference, 0.8ms postprocess per image at shape (1, 3, 640, 640)\n",
      "\n",
      "0: 480x640 (no detections), 156.6ms\n",
      "Speed: 3.5ms preprocess, 156.6ms inference, 0.8ms postprocess per image at shape (1, 3, 640, 640)\n",
      "\n",
      "0: 480x640 (no detections), 116.9ms\n",
      "Speed: 3.6ms preprocess, 116.9ms inference, 0.7ms postprocess per image at shape (1, 3, 640, 640)\n",
      "\n",
      "0: 480x640 (no detections), 119.6ms\n",
      "Speed: 5.0ms preprocess, 119.6ms inference, 0.7ms postprocess per image at shape (1, 3, 640, 640)\n",
      "\n",
      "0: 480x640 (no detections), 117.4ms\n",
      "Speed: 4.3ms preprocess, 117.4ms inference, 0.6ms postprocess per image at shape (1, 3, 640, 640)\n",
      "\n",
      "0: 480x640 (no detections), 125.5ms\n",
      "Speed: 4.0ms preprocess, 125.5ms inference, 0.7ms postprocess per image at shape (1, 3, 640, 640)\n",
      "\n",
      "0: 480x640 (no detections), 120.6ms\n",
      "Speed: 5.1ms preprocess, 120.6ms inference, 0.7ms postprocess per image at shape (1, 3, 640, 640)\n",
      "\n",
      "0: 480x640 (no detections), 164.4ms\n",
      "Speed: 5.6ms preprocess, 164.4ms inference, 0.6ms postprocess per image at shape (1, 3, 640, 640)\n",
      "\n",
      "0: 480x640 (no detections), 119.0ms\n",
      "Speed: 6.9ms preprocess, 119.0ms inference, 0.7ms postprocess per image at shape (1, 3, 640, 640)\n",
      "\n",
      "0: 480x640 (no detections), 150.6ms\n",
      "Speed: 4.2ms preprocess, 150.6ms inference, 0.7ms postprocess per image at shape (1, 3, 640, 640)\n",
      "\n",
      "0: 480x640 (no detections), 134.1ms\n",
      "Speed: 4.8ms preprocess, 134.1ms inference, 0.7ms postprocess per image at shape (1, 3, 640, 640)\n",
      "\n",
      "0: 480x640 (no detections), 126.2ms\n",
      "Speed: 4.0ms preprocess, 126.2ms inference, 0.9ms postprocess per image at shape (1, 3, 640, 640)\n",
      "\n",
      "0: 480x640 (no detections), 118.1ms\n",
      "Speed: 5.6ms preprocess, 118.1ms inference, 0.6ms postprocess per image at shape (1, 3, 640, 640)\n",
      "\n",
      "0: 480x640 (no detections), 117.3ms\n",
      "Speed: 3.5ms preprocess, 117.3ms inference, 0.7ms postprocess per image at shape (1, 3, 640, 640)\n",
      "\n",
      "0: 480x640 (no detections), 119.0ms\n",
      "Speed: 3.4ms preprocess, 119.0ms inference, 0.6ms postprocess per image at shape (1, 3, 640, 640)\n",
      "\n",
      "0: 480x640 (no detections), 147.7ms\n",
      "Speed: 4.1ms preprocess, 147.7ms inference, 0.7ms postprocess per image at shape (1, 3, 640, 640)\n",
      "\n",
      "0: 480x640 (no detections), 157.0ms\n",
      "Speed: 3.9ms preprocess, 157.0ms inference, 0.8ms postprocess per image at shape (1, 3, 640, 640)\n",
      "\n",
      "0: 480x640 1 cat, 162.8ms\n",
      "Speed: 4.7ms preprocess, 162.8ms inference, 1.2ms postprocess per image at shape (1, 3, 640, 640)\n",
      "\n",
      "0: 480x640 (no detections), 165.7ms\n",
      "Speed: 4.3ms preprocess, 165.7ms inference, 0.8ms postprocess per image at shape (1, 3, 640, 640)\n",
      "\n"
     ]
    },
    {
     "name": "stdout",
     "output_type": "stream",
     "text": [
      "🟢 Detected: cat: 0.33 at (68, 50, 615, 478)\n"
     ]
    },
    {
     "name": "stderr",
     "output_type": "stream",
     "text": [
      "0: 480x640 1 toilet, 177.7ms\n",
      "Speed: 3.8ms preprocess, 177.7ms inference, 1.2ms postprocess per image at shape (1, 3, 640, 640)\n",
      "\n",
      "0: 480x640 1 cat, 171.4ms\n",
      "Speed: 3.2ms preprocess, 171.4ms inference, 1.1ms postprocess per image at shape (1, 3, 640, 640)\n",
      "\n",
      "0: 480x640 1 cat, 179.1ms\n",
      "Speed: 4.9ms preprocess, 179.1ms inference, 1.5ms postprocess per image at shape (1, 3, 640, 640)\n"
     ]
    },
    {
     "name": "stdout",
     "output_type": "stream",
     "text": [
      "🟢 Detected: cat: 0.29 at (36, 61, 570, 479)\n",
      "🟢 Detected: cat: 0.32 at (23, 60, 555, 479)\n"
     ]
    },
    {
     "name": "stderr",
     "output_type": "stream",
     "text": [
      "\n",
      "0: 480x640 (no detections), 115.7ms\n",
      "Speed: 4.7ms preprocess, 115.7ms inference, 0.6ms postprocess per image at shape (1, 3, 640, 640)\n",
      "\n",
      "0: 480x640 (no detections), 117.7ms\n",
      "Speed: 3.8ms preprocess, 117.7ms inference, 0.6ms postprocess per image at shape (1, 3, 640, 640)\n",
      "\n",
      "0: 480x640 1 toilet, 125.0ms\n",
      "Speed: 4.2ms preprocess, 125.0ms inference, 1.2ms postprocess per image at shape (1, 3, 640, 640)\n",
      "\n",
      "0: 480x640 (no detections), 151.1ms\n",
      "Speed: 3.9ms preprocess, 151.1ms inference, 0.9ms postprocess per image at shape (1, 3, 640, 640)\n",
      "\n",
      "0: 480x640 1 cat, 117.4ms\n",
      "Speed: 4.1ms preprocess, 117.4ms inference, 1.1ms postprocess per image at shape (1, 3, 640, 640)\n",
      "\n",
      "0: 480x640 (no detections), 175.0ms\n",
      "Speed: 5.0ms preprocess, 175.0ms inference, 0.8ms postprocess per image at shape (1, 3, 640, 640)\n"
     ]
    },
    {
     "name": "stdout",
     "output_type": "stream",
     "text": [
      "🟢 Detected: cat: 0.32 at (41, 28, 562, 480)\n"
     ]
    },
    {
     "name": "stderr",
     "output_type": "stream",
     "text": [
      "\n",
      "0: 480x640 1 cat, 115.8ms\n",
      "Speed: 3.2ms preprocess, 115.8ms inference, 1.2ms postprocess per image at shape (1, 3, 640, 640)\n",
      "\n",
      "0: 480x640 (no detections), 115.0ms\n",
      "Speed: 6.8ms preprocess, 115.0ms inference, 0.6ms postprocess per image at shape (1, 3, 640, 640)\n",
      "\n"
     ]
    },
    {
     "name": "stdout",
     "output_type": "stream",
     "text": [
      "🟢 Detected: cat: 0.33 at (46, 30, 564, 480)\n"
     ]
    },
    {
     "name": "stderr",
     "output_type": "stream",
     "text": [
      "0: 480x640 1 cat, 122.6ms\n",
      "Speed: 4.6ms preprocess, 122.6ms inference, 1.2ms postprocess per image at shape (1, 3, 640, 640)\n",
      "\n",
      "0: 480x640 (no detections), 177.2ms\n",
      "Speed: 3.4ms preprocess, 177.2ms inference, 0.8ms postprocess per image at shape (1, 3, 640, 640)\n"
     ]
    },
    {
     "name": "stdout",
     "output_type": "stream",
     "text": [
      "🟢 Detected: cat: 0.26 at (29, 27, 565, 479)\n"
     ]
    },
    {
     "name": "stderr",
     "output_type": "stream",
     "text": [
      "\n",
      "0: 480x640 1 cat, 120.0ms\n",
      "Speed: 3.3ms preprocess, 120.0ms inference, 1.2ms postprocess per image at shape (1, 3, 640, 640)\n",
      "\n",
      "0: 480x640 (no detections), 121.6ms\n",
      "Speed: 4.9ms preprocess, 121.6ms inference, 0.6ms postprocess per image at shape (1, 3, 640, 640)\n",
      "\n"
     ]
    },
    {
     "name": "stdout",
     "output_type": "stream",
     "text": [
      "🟢 Detected: cat: 0.26 at (37, 33, 568, 479)\n"
     ]
    },
    {
     "name": "stderr",
     "output_type": "stream",
     "text": [
      "0: 480x640 (no detections), 117.5ms\n",
      "Speed: 6.1ms preprocess, 117.5ms inference, 0.6ms postprocess per image at shape (1, 3, 640, 640)\n",
      "\n",
      "0: 480x640 (no detections), 117.9ms\n",
      "Speed: 3.9ms preprocess, 117.9ms inference, 0.7ms postprocess per image at shape (1, 3, 640, 640)\n",
      "\n",
      "0: 480x640 (no detections), 136.0ms\n",
      "Speed: 3.9ms preprocess, 136.0ms inference, 0.7ms postprocess per image at shape (1, 3, 640, 640)\n",
      "\n",
      "0: 480x640 1 airplane, 127.9ms\n",
      "Speed: 3.3ms preprocess, 127.9ms inference, 1.2ms postprocess per image at shape (1, 3, 640, 640)\n",
      "\n",
      "0: 480x640 (no detections), 118.8ms\n",
      "Speed: 3.8ms preprocess, 118.8ms inference, 0.6ms postprocess per image at shape (1, 3, 640, 640)\n",
      "\n",
      "0: 480x640 (no detections), 116.3ms\n",
      "Speed: 3.6ms preprocess, 116.3ms inference, 0.6ms postprocess per image at shape (1, 3, 640, 640)\n",
      "\n",
      "0: 480x640 (no detections), 119.3ms\n",
      "Speed: 3.2ms preprocess, 119.3ms inference, 0.7ms postprocess per image at shape (1, 3, 640, 640)\n",
      "\n",
      "0: 480x640 (no detections), 116.2ms\n",
      "Speed: 4.3ms preprocess, 116.2ms inference, 0.6ms postprocess per image at shape (1, 3, 640, 640)\n",
      "\n",
      "0: 480x640 (no detections), 118.7ms\n",
      "Speed: 4.8ms preprocess, 118.7ms inference, 0.7ms postprocess per image at shape (1, 3, 640, 640)\n",
      "\n",
      "0: 480x640 (no detections), 127.9ms\n",
      "Speed: 6.0ms preprocess, 127.9ms inference, 0.8ms postprocess per image at shape (1, 3, 640, 640)\n",
      "\n",
      "0: 480x640 (no detections), 126.8ms\n",
      "Speed: 3.4ms preprocess, 126.8ms inference, 0.6ms postprocess per image at shape (1, 3, 640, 640)\n",
      "\n",
      "0: 480x640 (no detections), 116.5ms\n",
      "Speed: 3.5ms preprocess, 116.5ms inference, 0.6ms postprocess per image at shape (1, 3, 640, 640)\n",
      "\n",
      "0: 480x640 (no detections), 118.0ms\n",
      "Speed: 3.5ms preprocess, 118.0ms inference, 0.7ms postprocess per image at shape (1, 3, 640, 640)\n",
      "\n",
      "0: 480x640 1 person, 1 toilet, 115.1ms\n",
      "Speed: 3.5ms preprocess, 115.1ms inference, 1.2ms postprocess per image at shape (1, 3, 640, 640)\n"
     ]
    },
    {
     "name": "stdout",
     "output_type": "stream",
     "text": [
      "🟢 Detected: person: 0.25 at (76, 39, 567, 480)\n",
      "🚨 Alert: Person detected!\n"
     ]
    },
    {
     "name": "stderr",
     "output_type": "stream",
     "text": [
      "\n",
      "0: 480x640 1 cat, 132.4ms\n",
      "Speed: 3.8ms preprocess, 132.4ms inference, 1.2ms postprocess per image at shape (1, 3, 640, 640)\n",
      "\n"
     ]
    },
    {
     "name": "stdout",
     "output_type": "stream",
     "text": [
      "📸 Alert snapshot saved: alert_person_20250618_015233.jpg\n",
      "🟢 Detected: cat: 0.33 at (16, 32, 575, 479)\n"
     ]
    },
    {
     "name": "stderr",
     "output_type": "stream",
     "text": [
      "0: 480x640 1 cat, 1 toilet, 140.4ms\n",
      "Speed: 4.0ms preprocess, 140.4ms inference, 1.2ms postprocess per image at shape (1, 3, 640, 640)\n",
      "\n",
      "0: 480x640 1 cat, 179.6ms\n",
      "Speed: 3.8ms preprocess, 179.6ms inference, 1.8ms postprocess per image at shape (1, 3, 640, 640)\n"
     ]
    },
    {
     "name": "stdout",
     "output_type": "stream",
     "text": [
      "🟢 Detected: cat: 0.41 at (81, 72, 546, 479)\n",
      "🟢 Detected: cat: 0.36 at (43, 22, 544, 478)\n",
      "Recorded video saved as: recorded_20250618_015050.avi\n"
     ]
    }
   ],
   "source": [
    "import cv2\n",
    "import time\n",
    "from ultralytics import YOLO\n",
    "\n",
    "# Load YOLOv8 model\n",
    "model = YOLO(\"yolov8n.pt\")\n",
    "names = model.names\n",
    "\n",
    "# Classes to detect: All animals (except birds) + all vehicles\n",
    "allowed_labels = [\n",
    "    'person', 'cat', 'dog', 'horse', 'sheep', 'cow', 'elephant',\n",
    "    'bear', 'zebra', 'giraffe',  # ← all COCO animals except 'bird'\n",
    "    'bicycle', 'car', 'motorcycle', 'bus', 'truck'\n",
    "]\n",
    "\n",
    "# Access default webcam\n",
    "cap = cv2.VideoCapture(0)\n",
    "\n",
    "# Video writer setup\n",
    "fourcc = cv2.VideoWriter_fourcc(*'XVID')\n",
    "output_video_filename = f\"recorded_{time.strftime('%Y%m%d_%H%M%S')}.avi\"\n",
    "frame_width = int(cap.get(cv2.CAP_PROP_FRAME_WIDTH))\n",
    "frame_height = int(cap.get(cv2.CAP_PROP_FRAME_HEIGHT))\n",
    "out = cv2.VideoWriter(output_video_filename, fourcc, 20.0, (frame_width, frame_height))\n",
    "\n",
    "img_counter = 0\n",
    "print(\"Webcam started. Press 's' to save image, 'q' to quit.\")\n",
    "\n",
    "from playsound import playsound\n",
    "\n",
    "alert_triggered = False  # Control to avoid repeating alerts every frame\n",
    "\n",
    "while True:\n",
    "    ret, frame = cap.read()\n",
    "    if not ret:\n",
    "        break\n",
    "\n",
    "    results = model(frame)\n",
    "    boxes = results[0].boxes\n",
    "    detection_this_frame = False\n",
    "\n",
    "    for box in boxes:\n",
    "        x1, y1, x2, y2 = map(int, box.xyxy[0])\n",
    "        conf = box.conf[0].item()\n",
    "        cls = int(box.cls[0].item())\n",
    "        label_name = names[cls]\n",
    "        label = f\"{label_name}: {conf:.2f}\"\n",
    "\n",
    "        if label_name in allowed_labels:\n",
    "            cv2.rectangle(frame, (x1, y1), (x2, y2), (255, 0, 0), 2)\n",
    "            cv2.putText(frame, label, (x1, y1 - 5),\n",
    "                        cv2.FONT_HERSHEY_SIMPLEX, 0.6, (255, 0, 0), 2)\n",
    "\n",
    "            print(f\"🟢 Detected: {label} at ({x1}, {y1}, {x2}, {y2})\")\n",
    "\n",
    "            # Trigger alert only if person is detected\n",
    "            if label_name == 'person':\n",
    "                detection_this_frame = True\n",
    "\n",
    "\n",
    "    # 🔔 Alert: Play sound + Save snapshot (on person detection)\n",
    "    if detection_this_frame and not alert_triggered:\n",
    "        print(\"🚨 Alert: Person detected!\")\n",
    "        playsound(\"chime_alert.mp3\")  # Play sound\n",
    "\n",
    "        # Save snapshot\n",
    "        timestamp = time.strftime(\"%Y%m%d_%H%M%S\")\n",
    "        alert_img = f\"alert_person_{timestamp}.jpg\"\n",
    "        cv2.imwrite(alert_img, frame)\n",
    "        print(f\"📸 Alert snapshot saved: {alert_img}\")\n",
    "\n",
    "        alert_triggered = True\n",
    "    elif not detection_this_frame:\n",
    "        alert_triggered = False  # Reset if person not in frame\n",
    "\n",
    "    out.write(frame)\n",
    "    cv2.imshow('Webcam Feed with Drawing', frame)\n",
    "\n",
    "    key = cv2.waitKey(1)\n",
    "    if key & 0xFF == ord('q'):\n",
    "        break\n",
    "    elif key & 0xFF == ord('s'):\n",
    "        timestamp = time.strftime(\"%Y%m%d_%H%M%S\")\n",
    "        img_filename = f\"snapshot_{timestamp}.jpg\"\n",
    "        cv2.imwrite(img_filename, frame)\n",
    "        print(f\"Snapshot saved: {img_filename}\")\n",
    "        img_counter += 1\n",
    "\n",
    "\n",
    "# Release resources\n",
    "cap.release()\n",
    "out.release()\n",
    "cv2.destroyAllWindows()\n",
    "print(f\"Recorded video saved as: {output_video_filename}\")\n"
   ]
  },
  {
   "cell_type": "markdown",
   "id": "2f10a79b-078c-4946-b614-c25383da295d",
   "metadata": {},
   "source": [
    "# Alert"
   ]
  },
  {
   "cell_type": "code",
   "execution_count": null,
   "id": "80bd3714-f711-44b5-9d3f-ca71638f76f5",
   "metadata": {},
   "outputs": [],
   "source": []
  },
  {
   "cell_type": "code",
   "execution_count": 1,
   "id": "f2af7168-ee22-4452-b3a6-c08f4ebdd48d",
   "metadata": {
    "scrolled": true
   },
   "outputs": [
    {
     "name": "stderr",
     "output_type": "stream",
     "text": [
      "/home/akashs/.local/lib/python3.8/site-packages/ultralytics/nn/tasks.py:377: FutureWarning: You are using `torch.load` with `weights_only=False` (the current default value), which uses the default pickle module implicitly. It is possible to construct malicious pickle data which will execute arbitrary code during unpickling (See https://github.com/pytorch/pytorch/blob/main/SECURITY.md#untrusted-models for more details). In a future release, the default value for `weights_only` will be flipped to `True`. This limits the functions that could be executed during unpickling. Arbitrary objects will no longer be allowed to be loaded via this mode unless they are explicitly allowlisted by the user via `torch.serialization.add_safe_globals`. We recommend you start setting `weights_only=True` for any use case where you don't have full control of the loaded file. Please open an issue on GitHub for any issues related to this experimental feature.\n",
      "  return torch.load(file, map_location='cpu'), file  # load\n"
     ]
    },
    {
     "name": "stdout",
     "output_type": "stream",
     "text": [
      "Webcam started. Press 's' to save image, 'q' to quit.\n"
     ]
    },
    {
     "name": "stderr",
     "output_type": "stream",
     "text": [
      "Invalid MIT-MAGIC-COOKIE-1 key/home/akashs/.local/lib/python3.8/site-packages/torch/cuda/__init__.py:128: UserWarning: CUDA initialization: The NVIDIA driver on your system is too old (found version 11040). Please update your GPU driver by downloading and installing a new version from the URL: http://www.nvidia.com/Download/index.aspx Alternatively, go to: https://pytorch.org to install a PyTorch version that has been compiled with your version of the CUDA driver. (Triggered internally at ../c10/cuda/CUDAFunctions.cpp:108.)\n",
      "  return torch._C._cuda_getDeviceCount() > 0\n",
      "\n",
      "0: 480x640 1 cat, 211.6ms\n",
      "Speed: 8.5ms preprocess, 211.6ms inference, 1.9ms postprocess per image at shape (1, 3, 640, 640)\n"
     ]
    },
    {
     "name": "stdout",
     "output_type": "stream",
     "text": [
      "🟢 Detected: cat: 0.51 at (184, 72, 469, 408)\n"
     ]
    },
    {
     "name": "stderr",
     "output_type": "stream",
     "text": [
      "\n",
      "0: 480x640 1 cat, 296.0ms\n",
      "Speed: 4.9ms preprocess, 296.0ms inference, 1.7ms postprocess per image at shape (1, 3, 640, 640)\n",
      "\n"
     ]
    },
    {
     "name": "stdout",
     "output_type": "stream",
     "text": [
      "🟢 Detected: cat: 0.43 at (182, 71, 469, 397)\n"
     ]
    },
    {
     "name": "stderr",
     "output_type": "stream",
     "text": [
      "0: 480x640 1 cat, 223.7ms\n",
      "Speed: 2.6ms preprocess, 223.7ms inference, 1.4ms postprocess per image at shape (1, 3, 640, 640)\n",
      "\n",
      "0: 480x640 1 cat, 145.1ms\n",
      "Speed: 5.0ms preprocess, 145.1ms inference, 1.1ms postprocess per image at shape (1, 3, 640, 640)\n",
      "\n"
     ]
    },
    {
     "name": "stdout",
     "output_type": "stream",
     "text": [
      "🟢 Detected: cat: 0.49 at (183, 72, 469, 413)\n",
      "🟢 Detected: cat: 0.49 at (184, 72, 469, 417)\n"
     ]
    },
    {
     "name": "stderr",
     "output_type": "stream",
     "text": [
      "0: 480x640 1 cat, 147.8ms\n",
      "Speed: 4.0ms preprocess, 147.8ms inference, 1.2ms postprocess per image at shape (1, 3, 640, 640)\n",
      "\n",
      "0: 480x640 1 person, 136.3ms\n",
      "Speed: 6.7ms preprocess, 136.3ms inference, 1.1ms postprocess per image at shape (1, 3, 640, 640)\n"
     ]
    },
    {
     "name": "stdout",
     "output_type": "stream",
     "text": [
      "🟢 Detected: cat: 0.53 at (182, 72, 468, 424)\n",
      "🟢 Detected: person: 0.69 at (0, 102, 480, 479)\n",
      "🚨 Alert: Person detected!\n",
      "📸 Alert snapshot saved: alert_person_20250618_022324.jpg\n"
     ]
    },
    {
     "name": "stderr",
     "output_type": "stream",
     "text": [
      "\n"
     ]
    },
    {
     "name": "stdout",
     "output_type": "stream",
     "text": [
      "📧 Email alert sent!\n"
     ]
    },
    {
     "name": "stderr",
     "output_type": "stream",
     "text": [
      "0: 480x640 1 cat, 199.9ms\n",
      "Speed: 4.8ms preprocess, 199.9ms inference, 1.9ms postprocess per image at shape (1, 3, 640, 640)\n",
      "\n"
     ]
    },
    {
     "name": "stdout",
     "output_type": "stream",
     "text": [
      "🟢 Detected: cat: 0.42 at (95, 100, 314, 433)\n"
     ]
    },
    {
     "name": "stderr",
     "output_type": "stream",
     "text": [
      "0: 480x640 (no detections), 214.1ms\n",
      "Speed: 5.6ms preprocess, 214.1ms inference, 0.9ms postprocess per image at shape (1, 3, 640, 640)\n",
      "\n",
      "0: 480x640 (no detections), 188.4ms\n",
      "Speed: 4.6ms preprocess, 188.4ms inference, 0.8ms postprocess per image at shape (1, 3, 640, 640)\n",
      "\n",
      "0: 480x640 (no detections), 137.3ms\n",
      "Speed: 2.9ms preprocess, 137.3ms inference, 0.6ms postprocess per image at shape (1, 3, 640, 640)\n",
      "\n",
      "0: 480x640 (no detections), 152.3ms\n",
      "Speed: 4.6ms preprocess, 152.3ms inference, 0.7ms postprocess per image at shape (1, 3, 640, 640)\n",
      "\n",
      "0: 480x640 (no detections), 135.0ms\n",
      "Speed: 8.2ms preprocess, 135.0ms inference, 0.6ms postprocess per image at shape (1, 3, 640, 640)\n",
      "\n",
      "0: 480x640 (no detections), 128.3ms\n",
      "Speed: 5.1ms preprocess, 128.3ms inference, 0.6ms postprocess per image at shape (1, 3, 640, 640)\n",
      "\n",
      "0: 480x640 1 cat, 131.1ms\n",
      "Speed: 6.2ms preprocess, 131.1ms inference, 1.1ms postprocess per image at shape (1, 3, 640, 640)\n"
     ]
    },
    {
     "name": "stdout",
     "output_type": "stream",
     "text": [
      "🟢 Detected: cat: 0.25 at (167, 79, 386, 437)\n"
     ]
    },
    {
     "name": "stderr",
     "output_type": "stream",
     "text": [
      "\n",
      "0: 480x640 (no detections), 182.6ms\n",
      "Speed: 5.3ms preprocess, 182.6ms inference, 1.1ms postprocess per image at shape (1, 3, 640, 640)\n",
      "\n",
      "0: 480x640 (no detections), 183.2ms\n",
      "Speed: 4.3ms preprocess, 183.2ms inference, 0.6ms postprocess per image at shape (1, 3, 640, 640)\n",
      "\n",
      "0: 480x640 (no detections), 214.3ms\n",
      "Speed: 6.9ms preprocess, 214.3ms inference, 0.8ms postprocess per image at shape (1, 3, 640, 640)\n",
      "\n",
      "0: 480x640 (no detections), 139.2ms\n",
      "Speed: 2.3ms preprocess, 139.2ms inference, 0.6ms postprocess per image at shape (1, 3, 640, 640)\n",
      "\n",
      "0: 480x640 (no detections), 141.8ms\n",
      "Speed: 3.6ms preprocess, 141.8ms inference, 0.6ms postprocess per image at shape (1, 3, 640, 640)\n",
      "\n",
      "0: 480x640 (no detections), 207.4ms\n",
      "Speed: 2.9ms preprocess, 207.4ms inference, 0.8ms postprocess per image at shape (1, 3, 640, 640)\n",
      "\n",
      "0: 480x640 (no detections), 177.7ms\n",
      "Speed: 9.8ms preprocess, 177.7ms inference, 0.8ms postprocess per image at shape (1, 3, 640, 640)\n",
      "\n",
      "0: 480x640 (no detections), 146.0ms\n",
      "Speed: 3.7ms preprocess, 146.0ms inference, 0.7ms postprocess per image at shape (1, 3, 640, 640)\n",
      "\n",
      "0: 480x640 (no detections), 184.1ms\n",
      "Speed: 3.8ms preprocess, 184.1ms inference, 0.8ms postprocess per image at shape (1, 3, 640, 640)\n",
      "\n",
      "0: 480x640 (no detections), 150.2ms\n",
      "Speed: 3.5ms preprocess, 150.2ms inference, 0.6ms postprocess per image at shape (1, 3, 640, 640)\n",
      "\n",
      "0: 480x640 (no detections), 153.2ms\n",
      "Speed: 2.7ms preprocess, 153.2ms inference, 0.7ms postprocess per image at shape (1, 3, 640, 640)\n",
      "\n",
      "0: 480x640 (no detections), 172.7ms\n",
      "Speed: 3.6ms preprocess, 172.7ms inference, 1.5ms postprocess per image at shape (1, 3, 640, 640)\n",
      "\n",
      "0: 480x640 1 person, 1 cat, 140.4ms\n",
      "Speed: 4.6ms preprocess, 140.4ms inference, 1.2ms postprocess per image at shape (1, 3, 640, 640)\n"
     ]
    },
    {
     "name": "stdout",
     "output_type": "stream",
     "text": [
      "🟢 Detected: cat: 0.38 at (0, 74, 468, 479)\n",
      "🟢 Detected: person: 0.27 at (1, 76, 515, 479)\n",
      "🚨 Alert: Person detected!\n",
      "📸 Alert snapshot saved: alert_person_20250618_022337.jpg\n"
     ]
    },
    {
     "name": "stderr",
     "output_type": "stream",
     "text": [
      "\n",
      "0: 480x640 (no detections), 157.0ms\n",
      "Speed: 3.9ms preprocess, 157.0ms inference, 0.8ms postprocess per image at shape (1, 3, 640, 640)\n",
      "\n"
     ]
    },
    {
     "name": "stdout",
     "output_type": "stream",
     "text": [
      "📧 Email alert sent!\n"
     ]
    },
    {
     "name": "stderr",
     "output_type": "stream",
     "text": [
      "0: 480x640 (no detections), 155.2ms\n",
      "Speed: 3.5ms preprocess, 155.2ms inference, 1.0ms postprocess per image at shape (1, 3, 640, 640)\n",
      "\n",
      "0: 480x640 1 person, 189.2ms\n",
      "Speed: 5.2ms preprocess, 189.2ms inference, 2.1ms postprocess per image at shape (1, 3, 640, 640)\n"
     ]
    },
    {
     "name": "stdout",
     "output_type": "stream",
     "text": [
      "🟢 Detected: person: 0.44 at (59, 77, 526, 478)\n",
      "🚨 Alert: Person detected!\n",
      "📸 Alert snapshot saved: alert_person_20250618_022344.jpg\n"
     ]
    },
    {
     "name": "stderr",
     "output_type": "stream",
     "text": [
      "\n"
     ]
    },
    {
     "name": "stdout",
     "output_type": "stream",
     "text": [
      "📧 Email alert sent!\n"
     ]
    },
    {
     "name": "stderr",
     "output_type": "stream",
     "text": [
      "0: 480x640 1 person, 296.4ms\n",
      "Speed: 6.2ms preprocess, 296.4ms inference, 2.8ms postprocess per image at shape (1, 3, 640, 640)\n",
      "\n"
     ]
    },
    {
     "name": "stdout",
     "output_type": "stream",
     "text": [
      "🟢 Detected: person: 0.27 at (129, 81, 516, 477)\n"
     ]
    },
    {
     "name": "stderr",
     "output_type": "stream",
     "text": [
      "0: 480x640 (no detections), 350.2ms\n",
      "Speed: 5.3ms preprocess, 350.2ms inference, 2.5ms postprocess per image at shape (1, 3, 640, 640)\n",
      "\n",
      "0: 480x640 1 person, 274.6ms\n",
      "Speed: 3.3ms preprocess, 274.6ms inference, 1.8ms postprocess per image at shape (1, 3, 640, 640)\n"
     ]
    },
    {
     "name": "stdout",
     "output_type": "stream",
     "text": [
      "🟢 Detected: person: 0.58 at (0, 78, 544, 479)\n",
      "🚨 Alert: Person detected!\n",
      "📸 Alert snapshot saved: alert_person_20250618_022352.jpg\n"
     ]
    },
    {
     "name": "stderr",
     "output_type": "stream",
     "text": [
      "\n",
      "0: 480x640 1 person, 152.0ms\n",
      "Speed: 5.7ms preprocess, 152.0ms inference, 1.3ms postprocess per image at shape (1, 3, 640, 640)\n",
      "\n"
     ]
    },
    {
     "name": "stdout",
     "output_type": "stream",
     "text": [
      "📧 Email alert sent!\n",
      "🟢 Detected: person: 0.48 at (2, 78, 472, 477)\n"
     ]
    },
    {
     "name": "stderr",
     "output_type": "stream",
     "text": [
      "0: 480x640 1 toilet, 205.9ms\n",
      "Speed: 2.4ms preprocess, 205.9ms inference, 1.5ms postprocess per image at shape (1, 3, 640, 640)\n",
      "\n",
      "0: 480x640 (no detections), 204.3ms\n",
      "Speed: 3.8ms preprocess, 204.3ms inference, 1.2ms postprocess per image at shape (1, 3, 640, 640)\n",
      "\n",
      "0: 480x640 (no detections), 290.1ms\n",
      "Speed: 5.3ms preprocess, 290.1ms inference, 1.1ms postprocess per image at shape (1, 3, 640, 640)\n",
      "\n",
      "0: 480x640 (no detections), 276.9ms\n",
      "Speed: 9.2ms preprocess, 276.9ms inference, 1.1ms postprocess per image at shape (1, 3, 640, 640)\n",
      "\n",
      "0: 480x640 1 toilet, 248.8ms\n",
      "Speed: 2.5ms preprocess, 248.8ms inference, 1.9ms postprocess per image at shape (1, 3, 640, 640)\n",
      "\n",
      "0: 480x640 (no detections), 228.9ms\n",
      "Speed: 5.4ms preprocess, 228.9ms inference, 0.8ms postprocess per image at shape (1, 3, 640, 640)\n",
      "\n",
      "0: 480x640 (no detections), 187.6ms\n",
      "Speed: 2.6ms preprocess, 187.6ms inference, 0.7ms postprocess per image at shape (1, 3, 640, 640)\n",
      "\n",
      "0: 480x640 1 person, 173.3ms\n",
      "Speed: 4.5ms preprocess, 173.3ms inference, 2.0ms postprocess per image at shape (1, 3, 640, 640)\n"
     ]
    },
    {
     "name": "stdout",
     "output_type": "stream",
     "text": [
      "🟢 Detected: person: 0.36 at (0, 75, 460, 479)\n",
      "🚨 Alert: Person detected!\n",
      "📸 Alert snapshot saved: alert_person_20250618_022400.jpg\n"
     ]
    },
    {
     "name": "stderr",
     "output_type": "stream",
     "text": [
      "\n"
     ]
    },
    {
     "name": "stdout",
     "output_type": "stream",
     "text": [
      "📧 Email alert sent!\n"
     ]
    },
    {
     "name": "stderr",
     "output_type": "stream",
     "text": [
      "0: 480x640 1 toilet, 217.2ms\n",
      "Speed: 5.3ms preprocess, 217.2ms inference, 3.2ms postprocess per image at shape (1, 3, 640, 640)\n",
      "\n",
      "0: 480x640 (no detections), 238.5ms\n",
      "Speed: 4.0ms preprocess, 238.5ms inference, 1.1ms postprocess per image at shape (1, 3, 640, 640)\n",
      "\n",
      "0: 480x640 (no detections), 253.0ms\n",
      "Speed: 3.9ms preprocess, 253.0ms inference, 1.0ms postprocess per image at shape (1, 3, 640, 640)\n",
      "\n",
      "0: 480x640 2 persons, 213.8ms\n",
      "Speed: 4.5ms preprocess, 213.8ms inference, 1.5ms postprocess per image at shape (1, 3, 640, 640)\n"
     ]
    },
    {
     "name": "stdout",
     "output_type": "stream",
     "text": [
      "🟢 Detected: person: 0.55 at (0, 73, 455, 479)\n",
      "🟢 Detected: person: 0.26 at (104, 71, 534, 479)\n",
      "🚨 Alert: Person detected!\n",
      "📸 Alert snapshot saved: alert_person_20250618_022408.jpg\n"
     ]
    },
    {
     "name": "stderr",
     "output_type": "stream",
     "text": [
      "\n"
     ]
    },
    {
     "name": "stdout",
     "output_type": "stream",
     "text": [
      "📧 Email alert sent!\n"
     ]
    },
    {
     "name": "stderr",
     "output_type": "stream",
     "text": [
      "0: 480x640 1 person, 187.6ms\n",
      "Speed: 4.1ms preprocess, 187.6ms inference, 1.4ms postprocess per image at shape (1, 3, 640, 640)\n",
      "\n",
      "0: 480x640 1 person, 142.0ms\n",
      "Speed: 3.4ms preprocess, 142.0ms inference, 1.4ms postprocess per image at shape (1, 3, 640, 640)\n",
      "\n"
     ]
    },
    {
     "name": "stdout",
     "output_type": "stream",
     "text": [
      "🟢 Detected: person: 0.56 at (164, 78, 538, 478)\n",
      "🟢 Detected: person: 0.69 at (0, 80, 520, 479)\n"
     ]
    },
    {
     "name": "stderr",
     "output_type": "stream",
     "text": [
      "0: 480x640 2 persons, 189.4ms\n",
      "Speed: 3.5ms preprocess, 189.4ms inference, 1.6ms postprocess per image at shape (1, 3, 640, 640)\n",
      "\n"
     ]
    },
    {
     "name": "stdout",
     "output_type": "stream",
     "text": [
      "🟢 Detected: person: 0.77 at (0, 80, 527, 479)\n",
      "🟢 Detected: person: 0.26 at (145, 88, 544, 479)\n"
     ]
    },
    {
     "name": "stderr",
     "output_type": "stream",
     "text": [
      "0: 480x640 2 persons, 181.8ms\n",
      "Speed: 4.4ms preprocess, 181.8ms inference, 2.3ms postprocess per image at shape (1, 3, 640, 640)\n",
      "\n"
     ]
    },
    {
     "name": "stdout",
     "output_type": "stream",
     "text": [
      "🟢 Detected: person: 0.73 at (0, 80, 535, 479)\n",
      "🟢 Detected: person: 0.50 at (156, 81, 548, 478)\n"
     ]
    },
    {
     "name": "stderr",
     "output_type": "stream",
     "text": [
      "0: 480x640 2 persons, 227.0ms\n",
      "Speed: 3.4ms preprocess, 227.0ms inference, 2.1ms postprocess per image at shape (1, 3, 640, 640)\n",
      "\n",
      "0: 480x640 1 toilet, 156.3ms\n",
      "Speed: 4.6ms preprocess, 156.3ms inference, 1.4ms postprocess per image at shape (1, 3, 640, 640)\n",
      "\n"
     ]
    },
    {
     "name": "stdout",
     "output_type": "stream",
     "text": [
      "🟢 Detected: person: 0.42 at (101, 75, 542, 479)\n",
      "🟢 Detected: person: 0.41 at (0, 80, 484, 479)\n"
     ]
    },
    {
     "name": "stderr",
     "output_type": "stream",
     "text": [
      "0: 480x640 (no detections), 235.8ms\n",
      "Speed: 3.8ms preprocess, 235.8ms inference, 1.1ms postprocess per image at shape (1, 3, 640, 640)\n",
      "\n",
      "0: 480x640 1 person, 260.3ms\n",
      "Speed: 4.3ms preprocess, 260.3ms inference, 1.7ms postprocess per image at shape (1, 3, 640, 640)\n"
     ]
    },
    {
     "name": "stdout",
     "output_type": "stream",
     "text": [
      "🟢 Detected: person: 0.37 at (143, 81, 545, 479)\n",
      "🚨 Alert: Person detected!\n",
      "📸 Alert snapshot saved: alert_person_20250618_022416.jpg\n",
      "📧 Email alert sent!\n",
      "Recorded video saved as: recorded_20250618_022316.avi\n"
     ]
    }
   ],
   "source": [
    "import cv2\n",
    "import time\n",
    "from ultralytics import YOLO\n",
    "from playsound import playsound\n",
    "import smtplib\n",
    "import ssl\n",
    "from email.message import EmailMessage\n",
    "\n",
    "# -------------------------------\n",
    "# 🔧 CONFIGURE EMAIL ALERT\n",
    "# -------------------------------\n",
    "def send_email_alert(subject, body, to_email, image_path=None):\n",
    "    sender_email = \"akashsipcs@gmail.com\"       # ✅ your Gmail\n",
    "    app_password = \"zeyw jake wutq ppsd\"           # ✅ your 16-character App Password\n",
    "\n",
    "    msg = EmailMessage()\n",
    "    msg[\"Subject\"] = subject\n",
    "    msg[\"From\"] = sender_email\n",
    "    msg[\"To\"] = to_email\n",
    "    msg.set_content(body)\n",
    "\n",
    "    if image_path:\n",
    "        with open(image_path, \"rb\") as img:\n",
    "            img_data = img.read()\n",
    "            msg.add_attachment(img_data, maintype=\"image\", subtype=\"jpeg\", filename=image_path)\n",
    "\n",
    "    context = ssl.create_default_context()\n",
    "    with smtplib.SMTP_SSL(\"smtp.gmail.com\", 465, context=context) as server:\n",
    "        server.login(sender_email, app_password)\n",
    "        server.send_message(msg)\n",
    "\n",
    "    print(\"📧 Email alert sent!\")\n",
    "\n",
    "\n",
    "# -------------------------------\n",
    "# 🎯 OBJECT DETECTION SETUP\n",
    "# -------------------------------\n",
    "model = YOLO(\"yolov8n.pt\")\n",
    "names = model.names\n",
    "\n",
    "allowed_labels = [\n",
    "    'person', 'cat', 'dog', 'horse', 'sheep', 'cow', 'elephant',\n",
    "    'bear', 'zebra', 'giraffe', 'bicycle', 'car', 'motorcycle', 'bus', 'truck'\n",
    "]\n",
    "\n",
    "cap = cv2.VideoCapture(0)\n",
    "\n",
    "fourcc = cv2.VideoWriter_fourcc(*'XVID')\n",
    "output_video_filename = f\"recorded_{time.strftime('%Y%m%d_%H%M%S')}.avi\"\n",
    "frame_width = int(cap.get(cv2.CAP_PROP_FRAME_WIDTH))\n",
    "frame_height = int(cap.get(cv2.CAP_PROP_FRAME_HEIGHT))\n",
    "out = cv2.VideoWriter(output_video_filename, fourcc, 20.0, (frame_width, frame_height))\n",
    "\n",
    "img_counter = 0\n",
    "alert_triggered_person = False\n",
    "alert_triggered_general = False\n",
    "\n",
    "print(\"Webcam started. Press 's' to save image, 'q' to quit.\")\n",
    "\n",
    "while True:\n",
    "    ret, frame = cap.read()\n",
    "    if not ret:\n",
    "        break\n",
    "\n",
    "    results = model(frame)\n",
    "    boxes = results[0].boxes\n",
    "\n",
    "    detected_labels = []\n",
    "    person_detected_this_frame = False\n",
    "\n",
    "    for box in boxes:\n",
    "        x1, y1, x2, y2 = map(int, box.xyxy[0])\n",
    "        conf = box.conf[0].item()\n",
    "        cls = int(box.cls[0].item())\n",
    "        label_name = names[cls]\n",
    "        label = f\"{label_name}: {conf:.2f}\"\n",
    "\n",
    "        if label_name in allowed_labels:\n",
    "            detected_labels.append(label_name)\n",
    "            cv2.rectangle(frame, (x1, y1), (x2, y2), (255, 0, 0), 2)\n",
    "            cv2.putText(frame, label, (x1, y1 - 5), cv2.FONT_HERSHEY_SIMPLEX, 0.6, (255, 0, 0), 2)\n",
    "            print(f\"🟢 Detected: {label} at ({x1}, {y1}, {x2}, {y2})\")\n",
    "\n",
    "            if label_name == 'person':\n",
    "                person_detected_this_frame = True\n",
    "\n",
    "    # 🔔 Play chime if any allowed object detected (once per new detection frame)\n",
    "    if detected_labels and not alert_triggered_general:\n",
    "        playsound(\"chime_alert.mp3\")\n",
    "        alert_triggered_general = True\n",
    "    elif not detected_labels:\n",
    "        alert_triggered_general = False\n",
    "\n",
    "    # 📧 Send email if person detected\n",
    "    if person_detected_this_frame and not alert_triggered_person:\n",
    "        print(\"🚨 Alert: Person detected!\")\n",
    "        timestamp = time.strftime(\"%Y%m%d_%H%M%S\")\n",
    "        alert_img = f\"alert_person_{timestamp}.jpg\"\n",
    "        cv2.imwrite(alert_img, frame)\n",
    "        print(f\"📸 Alert snapshot saved: {alert_img}\")\n",
    "\n",
    "        send_email_alert(\n",
    "            subject=\"🚨 Person Intrusion Detected!\",\n",
    "            body=\"A person was detected on your camera feed.\",\n",
    "            to_email=\"akashsipcs@gmail.com\",\n",
    "            image_path=alert_img\n",
    "        )\n",
    "        alert_triggered_person = True\n",
    "    elif not person_detected_this_frame:\n",
    "        alert_triggered_person = False\n",
    "\n",
    "    out.write(frame)\n",
    "    cv2.imshow('Webcam Feed with Drawing', frame)\n",
    "\n",
    "    key = cv2.waitKey(1)\n",
    "    if key & 0xFF == ord('q'):\n",
    "        break\n",
    "    elif key & 0xFF == ord('s'):\n",
    "        timestamp = time.strftime(\"%Y%m%d_%H%M%S\")\n",
    "        img_filename = f\"snapshot_{timestamp}.jpg\"\n",
    "        cv2.imwrite(img_filename, frame)\n",
    "        print(f\"Snapshot saved: {img_filename}\")\n",
    "        img_counter += 1\n",
    "\n",
    "cap.release()\n",
    "out.release()\n",
    "cv2.destroyAllWindows()\n",
    "print(f\"Recorded video saved as: {output_video_filename}\")\n"
   ]
  },
  {
   "cell_type": "code",
   "execution_count": null,
   "id": "67dfca85-2b8d-4823-8925-9fdbd84a696e",
   "metadata": {},
   "outputs": [],
   "source": []
  }
 ],
 "metadata": {
  "kernelspec": {
   "display_name": "Python 3 (ipykernel)",
   "language": "python",
   "name": "python3"
  },
  "language_info": {
   "codemirror_mode": {
    "name": "ipython",
    "version": 3
   },
   "file_extension": ".py",
   "mimetype": "text/x-python",
   "name": "python",
   "nbconvert_exporter": "python",
   "pygments_lexer": "ipython3",
   "version": "3.8.10"
  }
 },
 "nbformat": 4,
 "nbformat_minor": 5
}
